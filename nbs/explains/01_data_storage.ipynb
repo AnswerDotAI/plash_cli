{
 "cells": [
  {
   "cell_type": "markdown",
   "id": "7f22accc",
   "metadata": {},
   "source": [
    "# Data Storage\n",
    "\n",
    "> Explainer on how Plash deals with data storage"
   ]
  },
  {
   "cell_type": "markdown",
   "id": "2e67114d",
   "metadata": {},
   "source": [
    "Plash provides a straightforward approach to persistent data storage for your applications.\n",
    "\n",
    "## The `data/` Directory\n",
    "\n",
    "The `data/` directory has special behavior during deployment:\n",
    "\n",
    "- **Default deployment** (`plash_deploy`): Remote `data/` directory is preserved, local `data/` is ignored\n",
    "- **Force data deployment** (`plash_deploy --force_data`): Remote `data/` directory is replaced with your local `data/` directory (or deleted if no local `data/` exists)\n",
    "- All other files are replaced with each deployment\n",
    "\n",
    "## Database Storage Best Practices\n",
    "\n",
    "Use environment-based paths to separate development and production data:\n",
    "\n",
    "```python\n",
    "import os\n",
    "DB_PATH = \"data/prod.db\" if os.getenv(\"PLASH_PRODUCTION\") else \"local.db\"\n",
    "```\n",
    "\n",
    "**For new applications:** Use `--force_data` to upload your initial database.\n",
    "**For existing applications:** Use regular deployment to preserve production data.\n",
    "\n",
    "::: {.callout-warning title=\"Use --force_data carefully\"}\n",
    "The `--force_data` flag will completely replace your production data. Always backup before using on production applications.\n",
    ":::\n",
    "\n",
    "## Backing Up Your Data\n",
    "\n",
    "Download all application files including data:\n",
    "```bash\n",
    "plash_download\n",
    "```\n",
    "\n",
    "For automated backups, consider using cron.\n",
    "```bash\n",
    "# Daily backup cron job\n",
    "0 0 * * * plash_download --path /path/to/project --save_path /path/to/backups/$(date +\\%Y\\%m\\%d)\n",
    "```"
   ]
  }
 ],
 "metadata": {
  "kernelspec": {
   "display_name": "python3",
   "language": "python",
   "name": "python3"
  }
 },
 "nbformat": 4,
 "nbformat_minor": 5
}
