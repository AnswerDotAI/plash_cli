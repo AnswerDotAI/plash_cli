{
 "cells": [
  {
   "cell_type": "markdown",
   "id": "7f22accc",
   "metadata": {},
   "source": [
    "# Data Storage\n",
    "\n",
    "> Explainer on how Plash deals with data storage"
   ]
  },
  {
   "cell_type": "markdown",
   "id": "2e67114d",
   "metadata": {},
   "source": [
    "Plash provides a straightforward approach to persistent data storage for your applications.\n",
    "\n",
    "## The `data/` Directory\n",
    "\n",
    "All files and folders, except those inside `data/` directory, are fully replaced on each deployment.\n",
    "\n",
    "The `data/` directory has special deployment behaviors:\n",
    "\n",
    "- **Default deployment**: Remote `data/` directory is preserved\n",
    "- **Force data deployment**: Remote `data/` directory is deleted and replaced with local `data/`\n",
    "\n",
    "This prevents accidental overwrites of production data."
   ]
  }
 ],
 "metadata": {
  "kernelspec": {
   "display_name": "python3",
   "language": "python",
   "name": "python3"
  }
 },
 "nbformat": 4,
 "nbformat_minor": 5
}
