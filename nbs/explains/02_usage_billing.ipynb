{
 "cells": [
  {
   "cell_type": "markdown",
   "metadata": {},
   "source": [
    "# Usage-Based Billing\n",
    "\n",
    "> Plash charges you only for the resources your applications actually consume."
   ]
  },
  {
   "cell_type": "markdown",
   "metadata": {},
   "source": [
    "## How it works\n",
    "\n",
    "- **Usage-based billing**: You pay for the resources your apps consume\n",
    "- **Required subscription**: $5/month gives you $5 in credits\n",
    "- **Additional credits**: When you need more than $5/month, you prepay for extra credits\n",
    "- **Monthly reset**: Subscription credits reset to $5 each month; prepaid credits roll over\n",
    "- **Payment priority**: Subscription credits are used first, then prepaid credits\n",
    "- **Daily billing**: Costs are calculated and deducted from your credits once per day\n",
    "- **Automatic protection**: Apps stop if both credit balances go negative or your subscription becomes inactive"
   ]
  },
  {
   "cell_type": "markdown",
   "metadata": {},
   "source": [
    "## Viewing your usage and costs\n",
    "\n",
    "### Usage dashboard\n",
    "View detailed usage for each app in your [dashboard](https://pla.sh/dashboard). Click \"View usage\" to see daily breakdowns of:\n",
    "\n",
    "- vCPU core minutes\n",
    "- Memory GB minutes  \n",
    "- Disk GB minutes\n",
    "- Egress GB transferred\n",
    "- Daily costs\n",
    "\n",
    "![Usage Dashboard](usage_dashboard.png)\n",
    "\n",
    "### Billing center\n",
    "Monitor your finances in the [billing center](https://pla.sh/billing):\n",
    "\n",
    "- View your account balance\n",
    "- Manage your subscription\n",
    "- Purchase additional prepaid credits\n",
    "- View your payment history and billing settings\n",
    "\n",
    "![Billing Center](billing_center.png)\n",
    "\n",
    "### Account protection\n",
    "\n",
    "Your apps automatically stop if:\n",
    "\n",
    "- Both credit balances go negative, OR\n",
    "- Your subscription becomes inactive\n",
    "\n",
    "This prevents unexpected charges and keeps you in control of costs."
   ]
  },
  {
   "cell_type": "markdown",
   "metadata": {},
   "source": [
    "## What we track and charge for\n",
    "\n",
    "Plash monitors four types of resource usage and charges based on actual consumption:\n",
    "\n",
    "- **CPU:** $0.028 per vCPU core-hour: Processing power your app uses\n",
    "- **Memory:** $0.014 per GB-hour: RAM your app uses while running\n",
    "- **Storage:** $0.15 per GB-month: Disk space your app files take up\n",
    "- **Egress:** $0.02 per GB: Data your app sends to users (downloads, web pages, API responses)\n",
    "\n",
    "Our pricing is setup in a way that most apps should stay well within the $5/month credit allowance."
   ]
  },
  {
   "cell_type": "markdown",
   "metadata": {},
   "source": [
    "## Questions or issues?\n",
    "\n",
    "If you have questions about billing or run into any issues with your account, email us at support@answer.ai and we'll help you out."
   ]
  }
 ],
 "metadata": {
  "kernelspec": {
   "display_name": "python3",
   "language": "python",
   "name": "python3"
  }
 },
 "nbformat": 4,
 "nbformat_minor": 4
}
