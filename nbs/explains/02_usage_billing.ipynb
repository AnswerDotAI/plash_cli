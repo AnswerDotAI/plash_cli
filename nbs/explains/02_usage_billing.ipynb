{
 "cells": [
  {
   "cell_type": "markdown",
   "metadata": {},
   "source": [
    "# Usage-Based Billing\n",
    "\n",
    "> Understanding how Plash charges for the resources your applications actually use"
   ]
  },
  {
   "cell_type": "markdown",
   "metadata": {},
   "source": [
    "## How It Works\n",
    "\n",
    "- **Required subscription**: $5/month gives you $5 in credits (these credits do not roll over each month)\n",
    "- **Additional credits**: When you need more than $5/month, you prepay for extra credits (these do roll over)\n",
    "- **Payment priority**: Subscription credits are used first, then prepaid credits\n",
    "- **Daily billing**: Costs are calculated and deducted from your credits once per day\n",
    "- **Automatic protection**: Apps stop if both credit balances go negative or your subscription becomes inactive\n",
    "\n",
    "We monitor your app's CPU, memory, storage, and bandwidth usage in real-time. For many small applications, the $5 monthly credit allowance covers all costs."
   ]
  },
  {
   "cell_type": "markdown",
   "metadata": {},
   "source": [
    "## Viewing Your Usage and Costs\n",
    "\n",
    "Plash provides several ways to monitor your resource usage and billing:\n",
    "\n",
    "### Usage Dashboard\n",
    "Each app has a detailed usage page showing daily breakdowns of:\n",
    "\n",
    "- vCPU core minutes used\n",
    "- Memory GB minutes consumed  \n",
    "- Disk GB minutes utilized\n",
    "- Egress GB transferred\n",
    "- Total daily costs\n",
    "\n",
    "![Usage Dashboard](usage_dashboard.png)\n",
    "\n",
    "### Billing Center\n",
    "Access your billing center to view:\n",
    "\n",
    "- Current subscription credit balance ($5/month allowance)\n",
    "- Prepaid credit balance (additional credits you've purchased)\n",
    "- Total available credits\n",
    "- Payment history and manage billing details\n",
    "\n",
    "![Billing Center](billing_center.png)\n",
    "\n",
    "### Account Protection\n",
    "**Important**: If both your subscription and prepaid credit balances go negative, or if your subscription becomes inactive, your apps will be automatically stopped. You won't be able to deploy new apps until you restore a positive balance or reactivate your subscription.\n",
    "\n",
    "This automatic protection prevents unexpected charges and ensures you stay in control of your costs."
   ]
  },
  {
   "cell_type": "markdown",
   "metadata": {},
   "source": [
    "## What We Track and Charge For\n",
    "\n",
    "Plash monitors four types of resource usage and charges based on actual consumption:\n",
    "\n",
    "- **CPU**: $0.000463 per vCPU core-minute - How much processing power your app uses\n",
    "- **Memory**: $0.000231 per GB-minute - How much RAM your app consumes  \n",
    "- **Storage**: $0.00000342465 per GB-minute - How much disk space your app uses\n",
    "- **Egress/Bandwidth**: $0.05 per GB - Data your app sends out to users\n",
    "\n",
    "### Understanding the Measurements\n",
    "\n",
    "- **Core-minutes** and **GB-minutes**: If your app uses 1 vCPU core for 60 minutes, that's 60 core-minutes\n",
    "- **Real-time tracking**: Usage is measured continuously while your app runs\n",
    "- **Daily billing**: All usage from the previous day is calculated and charged once per day\n",
    "\n",
    "Most small applications use very little of each resource, often staying well within the $5 monthly credit allowance."
   ]
  },
  {
   "cell_type": "markdown",
   "metadata": {},
   "source": [
    "## Questions or Issues?\n",
    "\n",
    "If you have questions about billing or run into any issues with your account, email us at support@answer.ai and we'll help you out."
   ]
  }
 ],
 "metadata": {
  "kernelspec": {
   "display_name": "python3",
   "language": "python",
   "name": "python3"
  }
 },
 "nbformat": 4,
 "nbformat_minor": 4
}
