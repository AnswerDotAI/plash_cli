{
 "cells": [
  {
   "cell_type": "markdown",
   "metadata": {},
   "source": [
    "# Tour of CLI"
   ]
  },
  {
   "cell_type": "markdown",
   "metadata": {},
   "source": [
    "### Managing Your App\n",
    "\n",
    "Plash CLI provides several commands to manage your apps:\n",
    "\n",
    "- `plash_login` - Login to Plash\n",
    "- `plash_deploy` - Deploy your app\n",
    "- `plash_view` - Open your deployed app in a browser\n",
    "- `plash_start` - Start your app if it's stopped\n",
    "- `plash_stop` - Stop your running app\n",
    "- `plash_logs` - View your app's logs\n",
    "- `plash_download` - Download your deployed app files\n",
    "- `plash_delete` - Delete your deployed app"
   ]
  }
 ],
 "metadata": {},
 "nbformat": 4,
 "nbformat_minor": 2
}
