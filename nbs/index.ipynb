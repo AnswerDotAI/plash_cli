{
 "cells": [
  {
   "cell_type": "code",
   "execution_count": null,
   "metadata": {},
   "outputs": [],
   "source": [
    "#| hide\n",
    "from plash_cli.core import *"
   ]
  },
  {
   "cell_type": "markdown",
   "metadata": {},
   "source": [
    "# Plash"
   ]
  },
  {
   "cell_type": "markdown",
   "metadata": {},
   "source": [
    "> Deploy your python apps in seconds. Fast, reliable, and effortless hosting for developers who want to focus on building, not deploying."
   ]
  },
  {
   "cell_type": "markdown",
   "metadata": {},
   "source": [
    "::: {.callout-warning}\n",
    "Plash is in Beta and we have released it in its semi-stable state to gather early feedback to improve. We do not recommend hosting critical applications yet.\n",
    ":::"
   ]
  },
  {
   "cell_type": "markdown",
   "metadata": {},
   "source": [
    "## What is Plash"
   ]
  },
  {
   "cell_type": "markdown",
   "metadata": {},
   "source": [
    "Plash is a next-generation deployment platform for fast, hassle-free Python application hosting. It's designed to be:\n",
    "\n",
    "- **Simple and streamlined** - deploy your applications with minimal configuration\n",
    "- **Developer-focused** - built for coders, not cloud engineers\n",
    "- **Fast and efficient** - get your app online in seconds, not days \n",
    "\n",
    "Plash handles all the deployment complexities so you can focus on what matters: building great applications. With Plash, you can deploy any Python app using straightforward commands and configurations, letting you ship your work quickly and reliably.\n",
    "\n",
    "Whether you're building web services, APIs, data applications, or tools, Plash provides the infrastructure backbone so you can concentrate on creating a splash with your code."
   ]
  },
  {
   "cell_type": "markdown",
   "metadata": {},
   "source": [
    "## Deploy your first app"
   ]
  },
  {
   "cell_type": "markdown",
   "metadata": {},
   "source": [
    "In this tutorial you will learn how to deploy your first app. \n",
    "This tutorial will explore the basics of using Plash and help you get familiar with it at a high level.\n",
    "\n",
    "**Objectives:**\n",
    "\n",
    "- [ ] Install the Commandline Interface (CLI)\n",
    "- [ ] Login via the CLI\n",
    "- [ ] Create your app file\n",
    "- [ ] Deploy your app\n",
    "- [ ] View your app logs\n",
    "- [ ] View your app in the browser\n",
    "\n",
    "**Prerequisites:**\n",
    "\n",
    "* A registered account at https://pla.sh\n",
    "* Basic terminal / command line skills\n",
    "* Basic text editor skills"
   ]
  },
  {
   "cell_type": "markdown",
   "metadata": {},
   "source": [
    "### Installation"
   ]
  },
  {
   "cell_type": "markdown",
   "metadata": {},
   "source": [
    "Plash comes with a commandline interface (CLI), you can install it with:\n",
    "    \n",
    "```sh\n",
    "$ pip install plash-cli\n",
    "```"
   ]
  },
  {
   "cell_type": "markdown",
   "metadata": {},
   "source": [
    "✅ Complete: Install the Commandline Interface (CLI)"
   ]
  },
  {
   "cell_type": "markdown",
   "metadata": {},
   "source": [
    "### CLI Login"
   ]
  },
  {
   "cell_type": "markdown",
   "metadata": {},
   "source": [
    "Now you will be able to login to your account via the CLI:\n",
    "\n",
    "```sh\n",
    "$ plash_login\n",
    "```\n",
    "\n",
    "This comand will open a browser, and guide you through the login steps.\n",
    "At the end you will see a browser screen with the text \"complete\".\n",
    "Then you can close the screen and go back to the CLI. There you'll see the text: \n",
    "\n",
    "> Authentication successful! Config saved to <your-global-config-path>/plash_config.json"
   ]
  },
  {
   "cell_type": "markdown",
   "metadata": {},
   "source": [
    "✅ Complete: Login via the CLI"
   ]
  },
  {
   "cell_type": "markdown",
   "metadata": {},
   "source": [
    "### Create your first app"
   ]
  },
  {
   "cell_type": "markdown",
   "metadata": {},
   "source": [
    "Create an empty folder and inside that folder create a file called `main.py`\n",
    "\n",
    "```sh\n",
    "$ mkdir -p plash-tutorial\n",
    "$ cd plash-tutorial\n",
    "$ touch main.py\n",
    "```\n",
    "\n",
    "Now open `main.py` in your favorite text editor and add the following code:\n",
    "\n",
    "```python\n",
    "from fasthtml.common import *\n",
    "\n",
    "app, rt = fast_app()\n",
    "\n",
    "@rt\n",
    "def index():\n",
    "    return H1(\"Hello, world!\")\n",
    "\n",
    "serve()\n",
    "```\n",
    "\n",
    "Next, create a `requirements.txt` file in the same directory and add the following:\n",
    "\n",
    "```\n",
    "python-fasthtml\n",
    "```"
   ]
  },
  {
   "cell_type": "markdown",
   "metadata": {},
   "source": [
    "✅ Complete: Create your app file"
   ]
  },
  {
   "cell_type": "markdown",
   "metadata": {},
   "source": [
    "### Deploy your app"
   ]
  },
  {
   "cell_type": "markdown",
   "metadata": {},
   "source": [
    "You are ready to deploy your first app.\n",
    "While still inside your `plash-tutorial`, run the following command in your terminal:\n",
    "\n",
    "```sh\n",
    "$ plash_deploy\n",
    "```\n",
    "\n",
    "You will see the following output:\n",
    "\n",
    "```\n",
    "Initializing deployment...\n",
    "✅ Upload complete! Your app is currently being built.\n",
    "It will be live at https://<your-app-id>.pla.sh\n",
    "```\n",
    "\n",
    "✅ Complete: Deploy your app"
   ]
  },
  {
   "cell_type": "markdown",
   "metadata": {},
   "source": [
    "### View your app logs\n",
    "\n",
    "To see your app's build logs in real-time, run:\n",
    "\n",
    "```sh\n",
    "$ plash_logs --tail\n",
    "```\n",
    "\n",
    "This command shows logs as they appear while Plash builds and runs your app's Docker container.\n",
    "\n",
    "✅ Complete: View your app logs"
   ]
  },
  {
   "cell_type": "markdown",
   "metadata": {},
   "source": [
    "### Visit your app"
   ]
  },
  {
   "cell_type": "markdown",
   "metadata": {},
   "source": [
    "To visit your app, run:\n",
    "\n",
    "```sh\n",
    "$ plash_view\n",
    "```\n",
    "\n",
    "This command opens a browser to view your app. It also prints its url in the terminal:\n",
    "\n",
    "```\n",
    "Opening browser to view app :\n",
    "https://<your-app-id>.pla.sh\n",
    "```"
   ]
  },
  {
   "cell_type": "markdown",
   "metadata": {},
   "source": [
    "✅ Complete: View your app in the browser"
   ]
  },
  {
   "cell_type": "markdown",
   "metadata": {},
   "source": [
    "**🎉 Complete: you completed the Get Started Tutorial**"
   ]
  }
 ],
 "metadata": {
  "kernelspec": {
   "display_name": "python3",
   "language": "python",
   "name": "python3"
  }
 },
 "nbformat": 4,
 "nbformat_minor": 4
}
