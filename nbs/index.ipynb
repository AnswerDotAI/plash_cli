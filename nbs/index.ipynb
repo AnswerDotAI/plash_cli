{
 "cells": [
  {
   "cell_type": "markdown",
   "metadata": {},
   "source": [
    "# Plash\n",
    "\n",
    "> Deploy your python apps in seconds. Fast, reliable, and effortless hosting for developers who want to focus on building, not deploying."
   ]
  },
  {
   "cell_type": "markdown",
   "metadata": {},
   "source": [
    "::: {.callout-warning}\n",
    "Plash is in Beta and we have released it in its semi-stable state to gather early feedback to improve. We do not recommend hosting critical applications yet.\n",
    ":::"
   ]
  },
  {
   "cell_type": "markdown",
   "metadata": {},
   "source": [
    "## What is Plash"
   ]
  },
  {
   "cell_type": "markdown",
   "metadata": {},
   "source": [
    "Plash is a next-generation deployment platform for fast, hassle-free Python application hosting. It's designed to be:\n",
    "\n",
    "- **Simple and streamlined** - deploy your applications with minimal configuration\n",
    "- **Developer-focused** - built for coders, not cloud engineers\n",
    "- **Fast and efficient** - get your app online in seconds, not days \n",
    "\n",
    "Plash handles all the deployment complexities so you can focus on what matters: building great applications. With Plash, you can deploy any Python app using straightforward commands and configurations, letting you ship your work quickly and reliably.\n",
    "\n",
    "Whether you're building web services, APIs, data applications, or tools, Plash provides the infrastructure backbone so you can concentrate on creating a splash with your code."
   ]
  },
  {
   "cell_type": "markdown",
   "metadata": {},
   "source": [
    "## Tutorial: deploy your first app"
   ]
  },
  {
   "cell_type": "markdown",
   "metadata": {},
   "source": [
    "In this tutorial you will learn how to deploy your first app. \n",
    "This tutorial will explore the basics of using Plash and help you get familiar with it at a high level.\n",
    "\n",
    "**Prerequisites:**\n",
    "\n",
    "* A registered account at [https://pla.sh](https://pla.sh)\n",
    "* Basic terminal / command line skills"
   ]
  },
  {
   "cell_type": "markdown",
   "metadata": {},
   "source": [
    "## Tutorial setup -"
   ]
  },
  {
   "cell_type": "code",
   "execution_count": null,
   "metadata": {},
   "outputs": [],
   "source": [
    "#| hide\n",
    "from plash_cli._bash_magic import *"
   ]
  },
  {
   "cell_type": "code",
   "execution_count": null,
   "metadata": {},
   "outputs": [],
   "source": [
    "#| hide\n",
    "import tempfile\n",
    "temp_dir = tempfile.TemporaryDirectory()\n",
    "td = temp_dir.name"
   ]
  },
  {
   "cell_type": "code",
   "execution_count": null,
   "metadata": {},
   "outputs": [
    {
     "name": "stdout",
     "output_type": "stream",
     "text": [
      "\n"
     ]
    }
   ],
   "source": [
    "%%bash\n",
    "#| hide\n",
    "cd $`td`"
   ]
  },
  {
   "cell_type": "markdown",
   "metadata": {},
   "source": [
    "### 1. Installation"
   ]
  },
  {
   "cell_type": "markdown",
   "metadata": {},
   "source": [
    "Install Plash comandline interface (CLI) with pip:\n",
    "\n",
    "```sh\n",
    "pip install plash-cli\n",
    "```\n",
    "\n",
    "The CLI lets you manage your whole app's lifecycle"
   ]
  },
  {
   "cell_type": "markdown",
   "metadata": {},
   "source": [
    "### 2. CLI Login\n",
    "\n",
    "Authenticate with your Plash account:\n",
    "\n",
    "```sh\n",
    "plash_login\n",
    "```\n",
    "\n",
    "This command opens your browser to authenticate with your Plash account. After completing the login process, you'll see a \"complete\" confirmation page in your browser.\n",
    "\n",
    "Return to your terminal where you'll find the confirmation message:\n",
    "\n",
    "> Authentication successful! Config saved to <your-global-config-path>/plash_config.json"
   ]
  },
  {
   "cell_type": "markdown",
   "metadata": {},
   "source": [
    "### 3. Create your first app\n",
    "\n",
    "Create a new directory for your first app:"
   ]
  },
  {
   "cell_type": "code",
   "execution_count": null,
   "metadata": {},
   "outputs": [
    {
     "name": "stdout",
     "output_type": "stream",
     "text": [
      "\n"
     ]
    }
   ],
   "source": [
    "%%bash\n",
    "mkdir -p plash-tutorial\n",
    "cd plash-tutorial"
   ]
  },
  {
   "cell_type": "markdown",
   "metadata": {},
   "source": [
    "Next, create the `main.py` file:"
   ]
  },
  {
   "cell_type": "code",
   "execution_count": null,
   "metadata": {},
   "outputs": [],
   "source": [
    "%%writefile main.py\n",
    "from fasthtml.common import *\n",
    "\n",
    "app, rt = fast_app()\n",
    "\n",
    "@rt\n",
    "def index():\n",
    "    return H1(\"Hello, world!\")\n",
    "\n",
    "serve()"
   ]
  },
  {
   "cell_type": "markdown",
   "metadata": {},
   "source": [
    "This is a basic [FastHTML](https://fastht.ml) app. Plash also supports other popular python frameworks."
   ]
  },
  {
   "cell_type": "markdown",
   "metadata": {},
   "source": [
    "And create the `requirements.txt` file:"
   ]
  },
  {
   "cell_type": "code",
   "execution_count": null,
   "metadata": {},
   "outputs": [],
   "source": [
    "%%writefile requirements.txt\n",
    "python-fasthtml"
   ]
  },
  {
   "cell_type": "markdown",
   "metadata": {},
   "source": [
    "### 4. Deploy your app"
   ]
  },
  {
   "cell_type": "markdown",
   "metadata": {},
   "source": [
    "Now that you've created your app files, you're ready to deploy! From your `plash-tutorial` directory, run: `plash_deploy`"
   ]
  },
  {
   "cell_type": "markdown",
   "metadata": {},
   "source": [
    "This command will:\n",
    "\n",
    "1. Package your application files\n",
    "2. Upload them to Plash's servers\n",
    "3. Build and deploy your application"
   ]
  },
  {
   "cell_type": "code",
   "execution_count": null,
   "metadata": {},
   "outputs": [],
   "source": [
    "%%writefile .plash\n",
    "#| hide\n",
    "export PLASH_APP_ID='example-app'"
   ]
  },
  {
   "cell_type": "code",
   "execution_count": null,
   "metadata": {},
   "outputs": [
    {
     "name": "stdout",
     "output_type": "stream",
     "text": [
      "Initializing deployment...\r\n",
      "✅ Upload complete! Your app is currently being built.\r\n",
      "It will be live at https://example-app.pla.sh\r\n",
      "\n"
     ]
    }
   ],
   "source": [
    "%%bash\n",
    "plash_deploy"
   ]
  },
  {
   "cell_type": "markdown",
   "metadata": {},
   "source": [
    "**Note:** You'll see a different url that has been randomly generated for your app."
   ]
  },
  {
   "cell_type": "markdown",
   "metadata": {},
   "source": [
    "### 5. View your app"
   ]
  },
  {
   "cell_type": "markdown",
   "metadata": {},
   "source": [
    "Your app should be ready a couple of seconds after running the deploy command.\n",
    "\n",
    "Once your app is ready, you can:\n",
    "\n",
    "1. Open the provided URL in your browser, or\n",
    "2. Use the convenient plash_view command to open it automatically:"
   ]
  },
  {
   "cell_type": "code",
   "execution_count": null,
   "metadata": {},
   "outputs": [
    {
     "name": "stdout",
     "output_type": "stream",
     "text": [
      "Opening browser to view app :\r\n",
      "https://example-app.pla.sh\r\n",
      "\r\n",
      "\n"
     ]
    }
   ],
   "source": [
    "%%bash\n",
    "plash_view"
   ]
  },
  {
   "cell_type": "markdown",
   "metadata": {},
   "source": [
    "When you visit that page you should see \"Hello, World!\"\n",
    "\n",
    "🎉 Congratulations! You deployed your first app on Plash!"
   ]
  },
  {
   "cell_type": "markdown",
   "metadata": {},
   "source": [
    "## Where to go from here\n",
    "\n",
    "Learn more about what Plash has to offer in the rest of the docs at: [https://docs.pla.sh](https://docs.pla.sh)"
   ]
  }
 ],
 "metadata": {
  "kernelspec": {
   "display_name": "python3",
   "language": "python",
   "name": "python3"
  }
 },
 "nbformat": 4,
 "nbformat_minor": 4
}
