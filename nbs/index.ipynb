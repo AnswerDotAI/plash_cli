{
 "cells": [
  {
   "cell_type": "code",
   "execution_count": null,
   "metadata": {},
   "outputs": [],
   "source": [
    "#| hide\n",
    "from plash_cli.core import *"
   ]
  },
  {
   "cell_type": "markdown",
   "metadata": {},
   "source": [
    "# plash-cli\n",
    "\n",
    "> CLI for the Plash hosting service"
   ]
  },
  {
   "cell_type": "markdown",
   "metadata": {},
   "source": [
    "**WARNING** - Plash is in Beta and we have released it in its semi-stable state to gather early feedback to improve. We do not recommend hosting critical applications yet."
   ]
  },
  {
   "cell_type": "markdown",
   "metadata": {},
   "source": [
    "## Usage"
   ]
  },
  {
   "cell_type": "markdown",
   "metadata": {},
   "source": [
    "### Installation"
   ]
  },
  {
   "cell_type": "markdown",
   "metadata": {},
   "source": [
    "Install latest from the GitHub [repository][repo]:\n",
    "\n",
    "```sh\n",
    "$ pip install git+https://github.com/AnswerDotAI/plash-cli.git\n",
    "```\n",
    "\n",
    "or from [pypi][pypi]\n",
    "\n",
    "\n",
    "```sh\n",
    "$ pip install plash-cli\n",
    "```\n",
    "\n",
    "\n",
    "[repo]: https://github.com/AnswerDotAI/plash-cli\n",
    "[docs]: https://AnswerDotAI.github.io/plash-cli/\n",
    "[pypi]: https://pypi.org/project/plash-cli/\n",
    "[conda]: https://anaconda.org/AnswerDotAI/plash-cli"
   ]
  },
  {
   "cell_type": "markdown",
   "metadata": {},
   "source": [
    "## Deploy Your First FastHTML App"
   ]
  },
  {
   "cell_type": "markdown",
   "metadata": {},
   "source": [
    "### Set Up Your Plash Token"
   ]
  },
  {
   "cell_type": "markdown",
   "metadata": {},
   "source": [
    "You'll need to set a PLASH_TOKEN and PLASH_EMAIL environment variables to use Plash. To obtain these, do the following:\n",
    "\n",
    "1. Signup for an account at https://pla.sh/\n",
    "2. Activate your Plash subscription\n",
    "2. Follow instructions in your Plash dashboard to save credentials locally"
   ]
  },
  {
   "cell_type": "markdown",
   "metadata": {},
   "source": [
    "### Create a FastHTML App"
   ]
  },
  {
   "cell_type": "markdown",
   "metadata": {},
   "source": [
    "Create a directory for your FastHTML app, and go into it:\n",
    "\n",
    "```sh\n",
    "mkdir minimal\n",
    "cd minimal\n",
    "```"
   ]
  },
  {
   "cell_type": "markdown",
   "metadata": {},
   "source": [
    "Create `main.py` containing:\n",
    "\n",
    "```python\n",
    "from fasthtml.common import *\n",
    "\n",
    "app, rt = fast_app()\n",
    "\n",
    "@rt\n",
    "def index():\n",
    "    return H1(\"Hello world!\")\n",
    "\n",
    "serve()\n",
    "```"
   ]
  },
  {
   "cell_type": "markdown",
   "metadata": {},
   "source": [
    "Then create a requirements.txt containing:\n",
    "```\n",
    "python-fasthtml\n",
    "```"
   ]
  },
  {
   "cell_type": "markdown",
   "metadata": {},
   "source": [
    "### Deploy your app\n",
    "\n",
    "Run `plash_deploy`.  Your app will be live at `https://<app-name>.pla.sh`. The URL will be shown in the deployment output."
   ]
  },
  {
   "cell_type": "markdown",
   "metadata": {},
   "source": [
    "### App Dependencies\n",
    "\n",
    "If your app needs additional dependencies to run, we offer a number of ways to have them included in your deployed app."
   ]
  },
  {
   "cell_type": "markdown",
   "metadata": {},
   "source": [
    "#### Python Dependencies"
   ]
  },
  {
   "cell_type": "markdown",
   "metadata": {},
   "source": [
    "To have python dependencies installed in your deployed app, you can provide a `requirements.txt` and it will be pip installed. By default, all deployed apps have fasthtml as a dependency."
   ]
  },
  {
   "cell_type": "markdown",
   "metadata": {},
   "source": [
    "#### Non-Python Dependencies"
   ]
  },
  {
   "cell_type": "markdown",
   "metadata": {},
   "source": [
    "For any other depencies of setup processes, you can provide a `setup.sh` which will be executed during the build step of your app. For example, you can use this to install apt packages (this is ran as root in your apps container, so omit any `sudo`):\n",
    "```bash\n",
    "#!/bin/bash\n",
    "apt install <package_name>\n",
    "```"
   ]
  },
  {
   "cell_type": "markdown",
   "metadata": {},
   "source": [
    "#### Env Variables"
   ]
  },
  {
   "cell_type": "markdown",
   "metadata": {},
   "source": [
    "If your app depends on secrets or other types of environment variables, you can have them available in your deployed app by providing a `plash.env`, which will be sourced during your apps startup. Here is an example:\n",
    "\n",
    "```\n",
    "export MY_ENV_VARIABLE=hijkl\n",
    "export ANOTHER_SECRET=abcdef\n",
    "```\n",
    "\n",
    "Inside of your running container, we automatically set an environment variable (`PLASH_PRODUCTION=1`) so you are able to use it for checking if your application is inside a Plash deployment or not."
   ]
  },
  {
   "cell_type": "markdown",
   "metadata": {},
   "source": [
    "## Databases\n",
    "\n",
    "For apps that use persistent storage, we recommend sqlite. The docker container your app runs in has a working directory of /app which is a volume mounted to a folder that we hourly backup. Therefore, we recommend placing your sqlite database somewhere in that directory. Note when redeploying an app with plash_deploy, we automatically overwrite existing files with the same name as those uploaded. Therefore to prevent data loss, ensure any local database files do not clash with any deployed database names that your app may set up. You can use the environment variable `PLASH_PRODUCTION`, which we automatically set to 1 in your Plash container, to modify your apps behavior for local and production development. You can download any deployed database names by clicking the Download App button to get a compressed file of all files in your /app folder in your deployed app.\n"
   ]
  },
  {
   "cell_type": "markdown",
   "metadata": {},
   "source": [
    "## Deploy to Pla.sh via GitHub Actions\n",
    "\n",
    "If you'd like to deploy your plash app every time you commit changes to your GitHub repo, you can use the following workflow to your `.github/workflows/` folder in the root of your repo:\n",
    "\n",
    "```yaml\n",
    "yaml \n",
    "name: Deploy to Plash\n",
    "\n",
    "on:\n",
    "  push:\n",
    "    branches:\n",
    "      - main\n",
    "  workflow_dispatch:\n",
    "\n",
    "jobs:\n",
    "  deploy:\n",
    "    runs-on: ubuntu-latest\n",
    "    steps:\n",
    "      - name: Checkout repository\n",
    "        uses: actions/checkout@v3\n",
    "\n",
    "      - name: Set up Python\n",
    "        uses: actions/setup-python@v4\n",
    "        with:\n",
    "          python-version: '3.x'\n",
    "\n",
    "      - name: Create Plash config\n",
    "        run: |\n",
    "          mkdir -p ~/.config\n",
    "          echo \"PLASH_EMAIL=${{ secrets.PLASH_EMAIL }}\" > ~/.config/plash.env\n",
    "          echo \"PLASH_TOKEN=${{ secrets.PLASH_TOKEN }}\" >> ~/.config/plash.env\n",
    "\n",
    "      - name: Install plash_cli with pip\n",
    "        run: pip install plash_cli\n",
    "\n",
    "      - name: Deploy to Plash\n",
    "        run: plash_deploy\n",
    "```\n",
    "\n",
    "It relies on storing your `PLASH_EMAIL` and `PLASH_TOKEN` as secrets in your GitHub repo, which you can find more information on how to do that [here](https://docs.github.com/en/actions/security-for-github-actions/security-guides/using-secrets-in-github-actions)."
   ]
  }
 ],
 "metadata": {
  "kernelspec": {
   "display_name": "python",
   "language": "python",
   "name": "python"
  }
 },
 "nbformat": 4,
 "nbformat_minor": 4
}
