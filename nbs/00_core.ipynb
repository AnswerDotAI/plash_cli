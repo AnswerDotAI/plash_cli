{
 "cells": [
  {
   "cell_type": "markdown",
   "id": "fdd6961e",
   "metadata": {},
   "source": [
    "# Core\n",
    "\n",
    "> The Plash CLI tool"
   ]
  },
  {
   "cell_type": "code",
   "execution_count": null,
   "id": "401812e9",
   "metadata": {},
   "outputs": [],
   "source": [
    "#| default_exp core"
   ]
  },
  {
   "cell_type": "code",
   "execution_count": null,
   "id": "702c219c",
   "metadata": {},
   "outputs": [],
   "source": [
    "#| export\n",
    "from fastcore.all import *\n",
    "from fastcore.xdg import *\n",
    "import secrets, webbrowser\n",
    "from httpx import post as xpost, get as xget\n",
    "from pathlib import Path\n",
    "from uuid import uuid4\n",
    "from time import time, sleep\n",
    "\n",
    "import io, sys, tarfile"
   ]
  },
  {
   "cell_type": "code",
   "execution_count": null,
   "id": "2fc99aa4",
   "metadata": {},
   "outputs": [],
   "source": [
    "#| export\n",
    "PLASH_CONFIG_HOME = xdg_config_home() / 'plash.env'"
   ]
  },
  {
   "cell_type": "code",
   "execution_count": null,
   "id": "6c388490",
   "metadata": {},
   "outputs": [],
   "source": [
    "#| export\n",
    "def get_global_cfg():\n",
    "    \"\"\"Works for all operating systems.\"\"\"\n",
    "    try: return parse_env(fn=Path(PLASH_CONFIG_HOME))\n",
    "    except FileNotFoundError: \n",
    "        Path(PLASH_CONFIG_HOME).touch()\n",
    "    return parse_env(fn=Path(PLASH_CONFIG_HOME))"
   ]
  },
  {
   "cell_type": "code",
   "execution_count": null,
   "id": "d1638ced",
   "metadata": {},
   "outputs": [],
   "source": [
    "#| export\n",
    "def is_included(path):\n",
    "    \"Returns True if path should be included in deployment\"\n",
    "    if path.name.startswith('.'): return False\n",
    "    if path.suffix == '.pyc': return False\n",
    "    excludes = {'.git', '__pycache__', '.gitignore', '.env', \n",
    "                '.pytest_cache', '.venv', 'venv', '.ipynb_checkpoints',\n",
    "                '.vscode', '.idea', '.sesskey'}\n",
    "    return not any(p in excludes for p in path.parts)"
   ]
  },
  {
   "cell_type": "code",
   "execution_count": null,
   "id": "2dbe8287",
   "metadata": {},
   "outputs": [],
   "source": [
    "#| export\n",
    "def create_tar_archive(path # Path to directory containing FastHTML app\n",
    "                      )->io.BytesIO: # Buffer of tar directory\n",
    "    \"Creates a tar archive of a directory, excluding files based on is_included\"\n",
    "    buf = io.BytesIO()\n",
    "    files = L(Path(path).iterdir()).filter(is_included)\n",
    "\n",
    "    with tarfile.open(fileobj=buf, mode='w:gz') as tar:\n",
    "        for f in files: tar.add(f, arcname=f.name)\n",
    "    buf.seek(0)\n",
    "    return buf, len(files)"
   ]
  },
  {
   "cell_type": "code",
   "execution_count": null,
   "id": "0ab6149c",
   "metadata": {},
   "outputs": [],
   "source": [
    "#| export\n",
    "def validate_app(path):\n",
    "    \"Validates that the app in the directory `path` is deployable as a FastHTML app\"\n",
    "    print(\"Analyzing project structure...\")\n",
    "\n",
    "    main_file = Path(path) / \"main.py\"\n",
    "    if not main_file.exists():\n",
    "        print('[red bold]ERROR: Your FastHTML app must have a main.py[/red bold]')\n",
    "        print(f'Your path is: [bold]{path}[/bold]')\n",
    "        sys.exit(1)"
   ]
  },
  {
   "cell_type": "code",
   "execution_count": null,
   "id": "23e24a43",
   "metadata": {},
   "outputs": [],
   "source": [
    "#| export\n",
    "@call_parse\n",
    "def deploy(\n",
    "    path:Path=Path('.'), # Path to project\n",
    "    local:bool=False,  # local dev\n",
    "    port:int=5002):\n",
    "    \"\"\"🚀 Ship your app to production\"\"\"\n",
    "    print('Initializing deployment...')\n",
    "    validate_app(path)\n",
    "    tarz, filecount = create_tar_archive(path)\n",
    "\n",
    "    plash_app = Path(path) / '.plash'\n",
    "    if not plash_app.exists():\n",
    "        # Create the .plash file and write the app name\n",
    "        plash_app.write_text(f'export PLASH_APP_ID=fasthtml-app-{str(uuid4())[:8]}')\n",
    "    \n",
    "    aid = parse_env(fn=plash_app)['PLASH_APP_ID']\n",
    "    cfg = get_global_cfg()\n",
    "    url = 'https://pla.sh/upload'\n",
    "    if local: url = f'http://localhost:{port}/upload'\n",
    "    headers = {'Authorization': f'Bearer {cfg[\"PLASH_TOKEN\"]}'}\n",
    "    print(f'Uploading {filecount} files...')\n",
    "    resp = xpost(url, headers=headers, files={'file': tarz}, timeout=300.0,\n",
    "                data={'aid': aid, 'email': cfg['PLASH_EMAIL']})\n",
    "    if resp.status_code == 200: \n",
    "        print('✅ Upload complete! Your app is currently being built.')\n",
    "        print(f'It will be live at https://{aid}.pla.sh')\n",
    "    else:\n",
    "        print(f'Failure {resp.status_code}')\n",
    "        print(f'Failure {resp.text}')"
   ]
  },
  {
   "cell_type": "code",
   "execution_count": null,
   "id": "42fb87eb",
   "metadata": {},
   "outputs": [],
   "source": [
    "# deploy('test_apps/minimal')"
   ]
  },
  {
   "cell_type": "markdown",
   "id": "38272c9a",
   "metadata": {},
   "source": [
    "## Oauth login"
   ]
  },
  {
   "cell_type": "code",
   "execution_count": null,
   "id": "e6219c6e",
   "metadata": {},
   "outputs": [],
   "source": [
    "#| export\n",
    "def poll_token(paircode, host, protocol='https', interval=1, timeout=180):\n",
    "    \"Poll server for token until received or timeout\"\n",
    "    start = time()\n",
    "    while time()-start < timeout:\n",
    "        resp = xget(f\"{protocol}://{host}/token?paircode={paircode}\").raise_for_status()\n",
    "        if resp.text.strip(): return resp.text\n",
    "        sleep(interval)\n",
    "        \n",
    "@call_parse\n",
    "def login(\n",
    "    local:bool=False,  # local dev\n",
    "    port:int=5002      # port for local development\n",
    "):\n",
    "    \"Authenticate CLI with server and save token\"\n",
    "    protocol = 'https' if not local else 'http'\n",
    "    host = 'pla.sh' if not local else f'localhost:{port}'\n",
    "    paircode = \"cli-paircode-\" + secrets.token_urlsafe(16)\n",
    "    url = f'{protocol}://{host}/cli_login?paircode={paircode}'\n",
    "    \n",
    "    login_url = xget(url).text\n",
    "    print(f\"Opening browser for authentication:\\n{login_url}\\n\")\n",
    "    webbrowser.open(login_url)\n",
    "    \n",
    "    token = poll_token(paircode, host, protocol=protocol)\n",
    "    if token:\n",
    "        token_file = PLASH_CONFIG_HOME.parent / 'plash_auth_token.txt'  # TODO: rename when harmonizing w plash.env\n",
    "        Path(token_file).write_text(token)\n",
    "        print(f\"Authentication successful! Token saved to {token_file}\")\n",
    "    else: print(\"Authentication timed out.\")"
   ]
  },
  {
   "cell_type": "markdown",
   "id": "3748636e",
   "metadata": {},
   "source": [
    "## Export"
   ]
  },
  {
   "cell_type": "code",
   "execution_count": null,
   "id": "16744c6e",
   "metadata": {},
   "outputs": [],
   "source": [
    "#|hide\n",
    "#|eval: false\n",
    "from nbdev.doclinks import nbdev_export\n",
    "nbdev_export()"
   ]
  }
 ],
 "metadata": {
  "kernelspec": {
   "display_name": "python3",
   "language": "python",
   "name": "python3"
  }
 },
 "nbformat": 4,
 "nbformat_minor": 5
}
