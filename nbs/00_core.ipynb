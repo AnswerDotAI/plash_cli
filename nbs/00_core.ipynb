{
 "cells": [
  {
   "cell_type": "markdown",
   "id": "fdd6961e",
   "metadata": {},
   "source": [
    "# Core\n",
    "\n",
    "> The Plash CLI tool"
   ]
  },
  {
   "cell_type": "code",
   "execution_count": null,
   "id": "401812e9",
   "metadata": {},
   "outputs": [],
   "source": [
    "#| default_exp core"
   ]
  },
  {
   "cell_type": "code",
   "execution_count": null,
   "id": "702c219c",
   "metadata": {},
   "outputs": [],
   "source": [
    "#| export\n",
    "from fastcore.all import *\n",
    "from fastcore.xdg import *\n",
    "import secrets, webbrowser, json, httpx, io, tarfile\n",
    "from pathlib import Path\n",
    "from uuid import uuid4\n",
    "from time import time, sleep\n",
    "import io, os, re, tarfile, tomllib\n",
    "\n",
    "from plash_cli import __version__"
   ]
  },
  {
   "cell_type": "code",
   "execution_count": null,
   "id": "02b571da",
   "metadata": {},
   "outputs": [],
   "source": [
    "#| hide\n",
    "from tempfile import TemporaryDirectory"
   ]
  },
  {
   "cell_type": "markdown",
   "id": "bfa048dd",
   "metadata": {},
   "source": [
    "## Helpers"
   ]
  },
  {
   "cell_type": "code",
   "execution_count": null,
   "id": "2fc99aa4",
   "metadata": {},
   "outputs": [],
   "source": [
    "#| export\n",
    "PLASH_CONFIG_HOME = xdg_config_home() / 'plash_config.json'\n",
    "PLASH_DOMAIN = os.getenv(\"PLASH_DOMAIN\",\"pla.sh\")  # pla.sh plash-dev.answer.ai localhost:5002"
   ]
  },
  {
   "cell_type": "code",
   "execution_count": null,
   "id": "6c388490",
   "metadata": {},
   "outputs": [],
   "source": [
    "#| export\n",
    "def get_client(cookie_file):\n",
    "    client = httpx.Client()\n",
    "    if not cookie_file.exists():\n",
    "        raise FileNotFoundError(\"Plash config not found. Please run plash_login and try again.\")\n",
    "    cookies = Path(cookie_file).read_json()\n",
    "    client.cookies.update(cookies)\n",
    "    client.headers.update({'X-PLASH': 'true', 'User-Agent': f'plash_cli/{__version__}'})\n",
    "    return client"
   ]
  },
  {
   "cell_type": "code",
   "execution_count": null,
   "id": "47d01e47",
   "metadata": {},
   "outputs": [],
   "source": [
    "#| export\n",
    "def mk_auth_req(url:str, method:str='get', **kwargs): return getattr(get_client(PLASH_CONFIG_HOME), method)(url, **kwargs)"
   ]
  },
  {
   "cell_type": "code",
   "execution_count": null,
   "id": "7edae5c8",
   "metadata": {},
   "outputs": [],
   "source": [
    "#| export\n",
    "def get_app_name(path:Path):\n",
    "    plash_app = Path(path) / '.plash'\n",
    "    if not plash_app.exists(): raise FileNotFoundError(f\"File not found: {plash_app=}\")\n",
    "    env = parse_env(fn=plash_app)\n",
    "    if name:=env.get(\"PLASH_APP_NAME\"): return name\n",
    "    if aid :=env.get('PLASH_APP_ID'): \n",
    "            plash_app.write_text(f\"export PLASH_APP_NAME={aid}\")\n",
    "            return aid\n",
    "    raise RuntimeError(f\"{plash_app=} did not have a PLASH_APP_NAME\")\n"
   ]
  },
  {
   "cell_type": "code",
   "execution_count": null,
   "id": "acaf42cf",
   "metadata": {},
   "outputs": [],
   "source": [
    "#| export\n",
    "def endpoint(sub='', rt=''):\n",
    "    p = \"http\" if \"localhost\" in PLASH_DOMAIN else \"https\"\n",
    "    return f\"{p}://{sub}{'.' if sub else ''}{PLASH_DOMAIN}{rt}\""
   ]
  },
  {
   "cell_type": "code",
   "execution_count": null,
   "id": "d1638ced",
   "metadata": {},
   "outputs": [],
   "source": [
    "#| export\n",
    "def is_included(path):\n",
    "    \"Returns True if path should be included in deployment\"\n",
    "    if path.name.startswith('.'): return False\n",
    "    if path.suffix == '.pyc': return False\n",
    "    excludes = {'.git', '__pycache__', '.gitignore', '.env', \n",
    "                '.pytest_cache', '.venv', 'venv', '.ipynb_checkpoints',\n",
    "                '.vscode', '.idea', '.sesskey'}\n",
    "    return not any(p in excludes for p in path.parts)"
   ]
  },
  {
   "cell_type": "markdown",
   "id": "38272c9a",
   "metadata": {},
   "source": [
    "## Plash - login"
   ]
  },
  {
   "cell_type": "code",
   "execution_count": null,
   "id": "e6219c6e",
   "metadata": {},
   "outputs": [],
   "source": [
    "#| export\n",
    "def poll_cookies(paircode, interval=1, timeout=180):\n",
    "    \"Poll server for token until received or timeout\"\n",
    "    start = time()\n",
    "    client = httpx.Client()\n",
    "    url = endpoint(rt=f\"/cli_token?paircode={paircode}\")\n",
    "    while time()-start < timeout:\n",
    "        resp = client.get(url).raise_for_status()\n",
    "        if resp.text.strip(): return dict(client.cookies)\n",
    "        sleep(interval)\n",
    "        \n",
    "@call_parse\n",
    "def login():\n",
    "    \"Authenticate CLI with server and save config\"\n",
    "    paircode = secrets.token_urlsafe(16)\n",
    "    login_url = httpx.get(endpoint(rt=f\"/cli_login?paircode={paircode}\")).text\n",
    "    print(f\"Opening browser for authentication:\\n{login_url}\\n\")\n",
    "    webbrowser.open(login_url)\n",
    "    \n",
    "    cookies = poll_cookies(paircode)\n",
    "    if cookies:\n",
    "        Path(PLASH_CONFIG_HOME).write_text(json.dumps(cookies))\n",
    "        print(f\"Authentication successful! Config saved to {PLASH_CONFIG_HOME}\")\n",
    "    else: print(\"Authentication timed out.\")"
   ]
  },
  {
   "cell_type": "markdown",
   "id": "e48bf226",
   "metadata": {},
   "source": [
    "## App - deploy"
   ]
  },
  {
   "cell_type": "markdown",
   "id": "00b09f08",
   "metadata": {},
   "source": [
    "Dependencies can be provided via a requirements.txt file or with inline dependencies following PEP 723."
   ]
  },
  {
   "cell_type": "code",
   "execution_count": null,
   "id": "d52c060e",
   "metadata": {},
   "outputs": [],
   "source": [
    "#| export\n",
    "pat = r'(?m)^# /// (?P<type>[a-zA-Z0-9-]+)$\\s(?P<content>(^#(| .*)$\\s)+)^# ///$'\n",
    "\n",
    "def _deps(script: bytes | str) -> dict | None:\n",
    "    'Get the dependencies from the script. From: https://peps.python.org/pep-0723/'\n",
    "    name = 'script'\n",
    "    if isinstance(script, bytes): script = script.decode('utf-8')\n",
    "    matches = L(re.finditer(pat, script)).filter(lambda m: m.group('type') == name)\n",
    "    if len(matches) > 1: raise ValueError(f'Multiple {name} blocks found')\n",
    "    elif len(matches) == 1:\n",
    "        content = ''.join(line[2:] if line.startswith('# ') else line[1:]\n",
    "                          for line in matches[0].group('content').splitlines(keepends=True))\n",
    "        return '\\n'.join(tomllib.loads(content)['dependencies'])\n",
    "    else: return None"
   ]
  },
  {
   "cell_type": "markdown",
   "id": "eaf59f06",
   "metadata": {},
   "source": [
    "Lets test on some demo apps:"
   ]
  },
  {
   "cell_type": "code",
   "execution_count": null,
   "id": "1ae2e374",
   "metadata": {},
   "outputs": [],
   "source": [
    "test_eq(_deps(Path(\"../examples/script_app/main.py\").read_text()),\"python-fasthtml\")\n",
    "test_is(_deps(Path(\"../examples/minimal/main.py\").read_text()),None)"
   ]
  },
  {
   "cell_type": "code",
   "execution_count": null,
   "id": "3747912c",
   "metadata": {},
   "outputs": [],
   "source": [
    "#| export\n",
    "class PlashError(Exception): pass\n",
    "\n",
    "def validate_app(path):\n",
    "    \"Validates directory `path` is a deployable Plash app\"\n",
    "    if not (path / 'main.py').exists():\n",
    "        raise PlashError('A Plash app requires a main.py file.')\n",
    "    deps = _deps((path / 'main.py').read_text())\n",
    "    if  deps and (path/\"requirements.txt\").exists(): \n",
    "        raise PlashError('A Plash app should not contain both a requirements.txt file and inline dependencies (see PEP723).')"
   ]
  },
  {
   "cell_type": "markdown",
   "id": "d7ca0a5d",
   "metadata": {},
   "source": [
    "All test apps should be valid:"
   ]
  },
  {
   "cell_type": "code",
   "execution_count": null,
   "id": "2eb4814e",
   "metadata": {},
   "outputs": [],
   "source": [
    "for d in Path(\"../examples/\").iterdir(): test_is(validate_app(d),None)"
   ]
  },
  {
   "cell_type": "markdown",
   "id": "370eedf5",
   "metadata": {},
   "source": [
    "Lets test each failure case:"
   ]
  },
  {
   "cell_type": "code",
   "execution_count": null,
   "id": "79a4ad5a",
   "metadata": {},
   "outputs": [],
   "source": [
    "with TemporaryDirectory() as td:\n",
    "    td = Path(td)\n",
    "    test_fail(validate_app, args=(td,), contains=\"main.py\")\n",
    "    \n",
    "    # test failure case of deps in both main.py and requirements.txt\n",
    "    (td / \"requirements.txt\").write_text(\"\")\n",
    "    (td / \"main.py\").write_text(Path(\"../examples/script_app/main.py\").read_text())\n",
    "    test_fail(validate_app, args=(td,), contains=\"not contain both\")"
   ]
  },
  {
   "cell_type": "code",
   "execution_count": null,
   "id": "ee0a7f14",
   "metadata": {},
   "outputs": [],
   "source": [
    "#| export\n",
    "def create_tar_archive(path:Path) -> tuple[io.BytesIO, int]:\n",
    "    \"Creates a tar archive of a directory, excluding files based on is_included\"\n",
    "    tarz = io.BytesIO()\n",
    "    files = L(path if path.is_file() else Path(path).iterdir()).filter(is_included)\n",
    "    with tarfile.open(fileobj=tarz, mode='w:gz') as tar:\n",
    "        for f in files: tar.add(f, arcname=f.name)\n",
    "        if deps:=_deps((path / 'main.py').read_bytes()):\n",
    "            info = tarfile.TarInfo('requirements.txt')\n",
    "            info.size = len(deps)\n",
    "            tar.addfile(info, io.BytesIO(deps.encode('utf-8')))\n",
    "    tarz.seek(0)\n",
    "    return tarz, len(files)"
   ]
  },
  {
   "cell_type": "code",
   "execution_count": null,
   "id": "4c7b7c6a",
   "metadata": {},
   "outputs": [],
   "source": [
    "#| export\n",
    "@call_parse\n",
    "def deploy(\n",
    "    path:Path=Path('.'),    # Path to project\n",
    "    name:str=None,          # Overrides the .plash file in project root if provided\n",
    "    force_data:bool=False): # Overwrite data/ directory during deployment\n",
    "    \"Deploy app to production, ignores paths starting with '.', excludes data/ directory by default unless --force_data is used.\"\n",
    "    print('Initializing deployment...')\n",
    "    if name == '': print('Error: App name cannot be an empty string'); return\n",
    "    if not path.is_dir(): print(\"Error: Path should point to the project directory\"); return\n",
    "    try: validate_app(path)\n",
    "    except PlashError as e: print(f\"Error: {str(e)}\\nInvalid path: {path}\"); return\n",
    "    \n",
    "    try: \n",
    "        if not name: name = get_app_name(path)\n",
    "    except FileNotFoundError:\n",
    "        plash_app = path / '.plash'\n",
    "        name = f'fasthtml-app-{str(uuid4())[:8]}'\n",
    "        plash_app.write_text(f'export PLASH_APP_NAME={name}')\n",
    "    \n",
    "    tarz, _ = create_tar_archive(path)\n",
    "    resp = mk_auth_req(endpoint(rt=\"/upload\"), \"post\", files={'file': tarz}, timeout=300.0, \n",
    "                       data={'name': name, 'force_data': force_data})\n",
    "    if resp.status_code == 200:\n",
    "        print('✅ Upload complete! Your app is currently being built.')\n",
    "        print(f'It will be live at {name if '.' in name else endpoint(sub=name)}')\n",
    "    else: print(f'Failure: {resp.status_code}\\n{resp.text}')"
   ]
  },
  {
   "cell_type": "markdown",
   "id": "492feaa4",
   "metadata": {},
   "source": [
    "## App - view"
   ]
  },
  {
   "cell_type": "code",
   "execution_count": null,
   "id": "75f7d1ab",
   "metadata": {},
   "outputs": [],
   "source": [
    "#| export\n",
    "@call_parse\n",
    "def view(\n",
    "    path:Path=Path('.'), # Path to project directory\n",
    "    name:str=None,     # Overrides the .plash file in project root if provided\n",
    "):\n",
    "    \"Open your app in the browser\"\n",
    "    if not name: name = get_app_name(path)\n",
    "    url = name if '.' in name else endpoint(sub=name)\n",
    "    print(f\"Opening browser to view app :\\n{url}\\n\")\n",
    "    webbrowser.open(url)"
   ]
  },
  {
   "cell_type": "markdown",
   "id": "1a389b5a",
   "metadata": {},
   "source": [
    "## App - delete"
   ]
  },
  {
   "cell_type": "code",
   "execution_count": null,
   "id": "8bdf721f",
   "metadata": {},
   "outputs": [],
   "source": [
    "#| export\n",
    "@call_parse\n",
    "def delete(\n",
    "    path:Path=Path('.'), # Path to project\n",
    "    name:str=None,     # Overrides the .plash file in project root if provided\n",
    "    force:bool=False):   # Skip confirmation prompt\n",
    "    'Delete your deployed app'\n",
    "    if not name: name = get_app_name(path)\n",
    "    if not force:\n",
    "        confirm = input(f\"Are you sure you want to delete app '{name}'? This action cannot be undone. [y/N]: \")\n",
    "        if confirm.lower() not in ['y', 'yes']:\n",
    "            print(\"Deletion cancelled.\")\n",
    "            return\n",
    "    \n",
    "    print(f\"Deleting app '{name}'...\")\n",
    "    r = mk_auth_req(endpoint(rt=f\"/delete?name={name}\"), \"delete\")\n",
    "    return r.text"
   ]
  },
  {
   "cell_type": "markdown",
   "id": "a7272487",
   "metadata": {},
   "source": [
    "## App - start stop"
   ]
  },
  {
   "cell_type": "code",
   "execution_count": null,
   "id": "a58efc94",
   "metadata": {},
   "outputs": [],
   "source": [
    "#| export\n",
    "def endpoint_func(endpoint_name):\n",
    "    'Creates a function for a specific API endpoint'\n",
    "    def func(\n",
    "        path:Path=Path('.'), # Path to project\n",
    "        name:str=None,     # Overrides the .plash file in project root if provided\n",
    "    ):\n",
    "        if not name: name = get_app_name(path)\n",
    "        r = mk_auth_req(endpoint(rt=f\"{endpoint_name}?name={name}\"))\n",
    "        return r.text\n",
    "    \n",
    "    # Set the function name and docstring\n",
    "    func.__name__ = endpoint_name\n",
    "    func.__doc__ = f\"Access the '{endpoint_name}' endpoint for your app\"\n",
    "    \n",
    "    return call_parse(func)\n",
    "\n",
    "# Create endpoint-specific functions\n",
    "stop = endpoint_func('/stop')\n",
    "start = endpoint_func('/start')"
   ]
  },
  {
   "cell_type": "markdown",
   "id": "6d463f8a",
   "metadata": {},
   "source": [
    "## App - logs"
   ]
  },
  {
   "cell_type": "code",
   "execution_count": null,
   "id": "24e62f1f",
   "metadata": {},
   "outputs": [],
   "source": [
    "#| export\n",
    "log_modes = str_enum('log_modes', 'build', 'app')"
   ]
  },
  {
   "cell_type": "code",
   "execution_count": null,
   "id": "a819b06b",
   "metadata": {},
   "outputs": [],
   "source": [
    "#| export\n",
    "@call_parse\n",
    "def logs(\n",
    "    path:Path=Path('.'),    # Path to project\n",
    "    name:str=None,          # Overrides the .plash file in project root if provided\n",
    "    mode:log_modes='build', # Choose between build or app logs\n",
    "    tail:bool=False):       # Tail the logs\n",
    "    'Prints the logs for your deployed app'\n",
    "    if not name: name = get_app_name(path)\n",
    "    if tail:\n",
    "        text = ''\n",
    "        while True:\n",
    "            try:\n",
    "                r = mk_auth_req(endpoint(rt=f\"/logs?name={name}&mode={mode}\"))\n",
    "                if r.status_code == 200:\n",
    "                    print(r.text[len(text):], end='') # Only print updates\n",
    "                    text = r.text\n",
    "                    if mode == 'build' and 'Build End Time:' in r.text: break\n",
    "                    sleep(1)\n",
    "                else:\n",
    "                    print(f\"Error: {r.status_code}\")\n",
    "            except KeyboardInterrupt:\n",
    "                return \"\\nExiting\"\n",
    "    r = mk_auth_req(endpoint(rt=f\"/logs?name={name}&mode={mode}\"))\n",
    "    return r.text"
   ]
  },
  {
   "cell_type": "markdown",
   "id": "7b1f0408",
   "metadata": {},
   "source": [
    "## App - download"
   ]
  },
  {
   "cell_type": "code",
   "execution_count": null,
   "id": "047ae74f",
   "metadata": {},
   "outputs": [],
   "source": [
    "#| export\n",
    "@call_parse\n",
    "def download(\n",
    "    path:Path=Path('.'),                 # Path to project\n",
    "    name:str=None,                       # Overrides the .plash file in project root if provided\n",
    "    save_path:Path=Path(\"./download/\")): # Save path (optional)\n",
    "    'Download your deployed app'\n",
    "    if not name: name = get_app_name(path)\n",
    "    try: save_path.mkdir(exist_ok=False)\n",
    "    except: print(f\"ERROR: Save path ({save_path}) already exists. Please rename or delete this folder to avoid accidental overwrites.\")\n",
    "    else:\n",
    "        response = mk_auth_req(endpoint(rt=f'/download?name={name}')).raise_for_status()\n",
    "        file_bytes = io.BytesIO(response.content)\n",
    "        with tarfile.open(fileobj=file_bytes, mode=\"r:gz\") as tar: tar.extractall(path=save_path)\n",
    "        print(f\"Downloaded your app to: {save_path}\")"
   ]
  },
  {
   "cell_type": "markdown",
   "id": "7de8c8e8",
   "metadata": {},
   "source": [
    "## List Apps"
   ]
  },
  {
   "cell_type": "code",
   "execution_count": null,
   "id": "3fca3967",
   "metadata": {},
   "outputs": [],
   "source": [
    "#|export\n",
    "@call_parse\n",
    "def apps(verbose:bool=False):\n",
    "    \"List your deployed apps (verbose shows status table: 1=running, 0=stopped)\"\n",
    "    r = mk_auth_req(endpoint(rt=\"/user_apps\")).raise_for_status()\n",
    "    apps = r.json()\n",
    "    if not apps: return \"You don't have any deployed Plash apps.\"\n",
    "    if verbose: [print(f'{a['running']} {a['name']}') for a in apps]\n",
    "    else: [print(a['name']) for a in apps]"
   ]
  },
  {
   "cell_type": "markdown",
   "id": "3748636e",
   "metadata": {},
   "source": [
    "## Export"
   ]
  },
  {
   "cell_type": "code",
   "execution_count": null,
   "id": "16744c6e",
   "metadata": {},
   "outputs": [],
   "source": [
    "#|hide\n",
    "#|eval: false\n",
    "from nbdev.doclinks import nbdev_export\n",
    "nbdev_export()"
   ]
  }
 ],
 "metadata": {
  "kernelspec": {
   "display_name": "python3",
   "language": "python",
   "name": "python3"
  }
 },
 "nbformat": 4,
 "nbformat_minor": 5
}
