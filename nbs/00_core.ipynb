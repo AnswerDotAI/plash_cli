{
 "cells": [
  {
   "cell_type": "markdown",
   "id": "fdd6961e",
   "metadata": {},
   "source": [
    "# Core\n",
    "\n",
    "> The Plash CLI tool"
   ]
  },
  {
   "cell_type": "code",
   "execution_count": null,
   "id": "401812e9",
   "metadata": {},
   "outputs": [],
   "source": [
    "#| default_exp core"
   ]
  },
  {
   "cell_type": "code",
   "execution_count": null,
   "id": "702c219c",
   "metadata": {},
   "outputs": [],
   "source": [
    "#| export\n",
    "from fastcore.all import *\n",
    "from fastcore.xdg import *\n",
    "import secrets, webbrowser, json, httpx, io, tarfile\n",
    "from pathlib import Path\n",
    "from uuid import uuid4\n",
    "from time import time, sleep\n",
    "\n",
    "import io, re, sys, tarfile, tomllib"
   ]
  },
  {
   "cell_type": "markdown",
   "id": "bfa048dd",
   "metadata": {},
   "source": [
    "## Helpers"
   ]
  },
  {
   "cell_type": "code",
   "execution_count": null,
   "id": "2fc99aa4",
   "metadata": {},
   "outputs": [],
   "source": [
    "#| export\n",
    "PLASH_CONFIG_HOME = xdg_config_home() / 'plash_config.json'"
   ]
  },
  {
   "cell_type": "code",
   "execution_count": null,
   "id": "6c388490",
   "metadata": {},
   "outputs": [],
   "source": [
    "#| export\n",
    "def get_client(cookie_file):\n",
    "    client = httpx.Client()\n",
    "    if not cookie_file.exists():\n",
    "        raise FileNotFoundError(\"Plash config not found. Please run plash_login and try again.\")\n",
    "    cookies = Path(cookie_file).read_json()\n",
    "    client.cookies.update(cookies)\n",
    "    return client"
   ]
  },
  {
   "cell_type": "code",
   "execution_count": null,
   "id": "47d01e47",
   "metadata": {},
   "outputs": [],
   "source": [
    "#| export\n",
    "def mk_auth_req(url:str, method:str='get', **kwargs): return getattr(get_client(PLASH_CONFIG_HOME), method)(url, **kwargs)"
   ]
  },
  {
   "cell_type": "code",
   "execution_count": null,
   "id": "7edae5c8",
   "metadata": {},
   "outputs": [],
   "source": [
    "#| export\n",
    "def get_app_id(path:Path):\n",
    "    plash_app = Path(path) / '.plash'\n",
    "    if not plash_app.exists(): raise FileNotFoundError(f\"File not found: {plash_app=}\")\n",
    "    return parse_env(fn=plash_app)['PLASH_APP_ID']"
   ]
  },
  {
   "cell_type": "code",
   "execution_count": null,
   "id": "acaf42cf",
   "metadata": {},
   "outputs": [],
   "source": [
    "#| export\n",
    "def endpoint(path, local, port=None):\n",
    "    p = \"http\" if local else \"https\"\n",
    "    d = f\"localhost:{port}\" if local else \"pla.sh\"\n",
    "    return f\"{p}://{d}{path}\""
   ]
  },
  {
   "cell_type": "code",
   "execution_count": null,
   "id": "d1638ced",
   "metadata": {},
   "outputs": [],
   "source": [
    "#| export\n",
    "def is_included(path):\n",
    "    \"Returns True if path should be included in deployment\"\n",
    "    if path.name.startswith('.'): return False\n",
    "    if path.suffix == '.pyc': return False\n",
    "    excludes = {'.git', '__pycache__', '.gitignore', '.env', \n",
    "                '.pytest_cache', '.venv', 'venv', '.ipynb_checkpoints',\n",
    "                '.vscode', '.idea', '.sesskey'}\n",
    "    return not any(p in excludes for p in path.parts)"
   ]
  },
  {
   "cell_type": "code",
   "execution_count": null,
   "id": "2dbe8287",
   "metadata": {},
   "outputs": [],
   "source": [
    "#| export\n",
    "def _tarz(path # Path to directory containing FastHTML app\n",
    "                      )->io.BytesIO: # Buffer of tar directory\n",
    "    \"Creates a tar archive of a directory, excluding files based on is_included\"\n",
    "    buf = io.BytesIO()\n",
    "    files = L(Path(path).iterdir()).filter(is_included)\n",
    "\n",
    "    with tarfile.open(fileobj=buf, mode='w:gz') as tar:\n",
    "        for f in files: tar.add(f, arcname=f.name)\n",
    "    buf.seek(0)\n",
    "    return buf, len(files)"
   ]
  },
  {
   "cell_type": "code",
   "execution_count": null,
   "id": "0ab6149c",
   "metadata": {},
   "outputs": [],
   "source": [
    "#| export\n",
    "def validate_app(path):\n",
    "    \"Validates that the app in the directory `path` is deployable as a FastHTML app\"\n",
    "    print(\"Analyzing project structure...\")\n",
    "\n",
    "    main_file = Path(path) / \"main.py\"\n",
    "    if not main_file.exists():\n",
    "        print('[red bold]ERROR: Your FastHTML app must have a main.py[/red bold]')\n",
    "        print(f'Your path is: [bold]{path}[/bold]')\n",
    "        sys.exit(1)"
   ]
  },
  {
   "cell_type": "markdown",
   "id": "38272c9a",
   "metadata": {},
   "source": [
    "## Plash - login"
   ]
  },
  {
   "cell_type": "code",
   "execution_count": null,
   "id": "e6219c6e",
   "metadata": {},
   "outputs": [],
   "source": [
    "#| export\n",
    "def poll_cookies(paircode, local, port=None, interval=1, timeout=180):\n",
    "    \"Poll server for token until received or timeout\"\n",
    "    start = time()\n",
    "    client = httpx.Client()\n",
    "    url = endpoint(f\"/cli_token?paircode={paircode}\",local,port)\n",
    "    while time()-start < timeout:\n",
    "        resp = client.get(url).raise_for_status()\n",
    "        if resp.text.strip(): return dict(client.cookies)\n",
    "        sleep(interval)\n",
    "        \n",
    "@call_parse\n",
    "def login(\n",
    "    local:bool=False,  # Local dev\n",
    "    port:int=5002      # Port for local dev\n",
    "):\n",
    "    \"Authenticate CLI with server and save config\"\n",
    "    paircode = secrets.token_urlsafe(16)\n",
    "    login_url = httpx.get(endpoint(f\"/cli_login?paircode={paircode}\",local,port)).text\n",
    "    print(f\"Opening browser for authentication:\\n{login_url}\\n\")\n",
    "    webbrowser.open(login_url)\n",
    "    \n",
    "    cookies = poll_cookies(paircode, local, port)\n",
    "    if cookies:\n",
    "        Path(PLASH_CONFIG_HOME).write_text(json.dumps(cookies))\n",
    "        print(f\"Authentication successful! Config saved to {PLASH_CONFIG_HOME}\")\n",
    "    else: print(\"Authentication timed out.\")"
   ]
  },
  {
   "cell_type": "markdown",
   "id": "e48bf226",
   "metadata": {},
   "source": [
    "## App - deploy"
   ]
  },
  {
   "cell_type": "code",
   "execution_count": null,
   "id": "d52c060e",
   "metadata": {},
   "outputs": [],
   "source": [
    "#| export\n",
    "pat = r'(?m)^# /// (?P<type>[a-zA-Z0-9-]+)$\\s(?P<content>(^#(| .*)$\\s)+)^# ///$'\n",
    "\n",
    "def _deps(script: bytes | str) -> dict | None:\n",
    "    '''Get the dependencies from the script. From: https://peps.python.org/pep-0723/'''\n",
    "    name = 'script'\n",
    "    if isinstance(script, bytes): script = script.decode('utf-8')\n",
    "    matches = L(re.finditer(pat, script)).filter(lambda m: m.group('type') == name)\n",
    "    if len(matches) > 1: raise ValueError(f'Multiple {name} blocks found')\n",
    "    elif len(matches) == 1:\n",
    "        content = ''.join(line[2:] if line.startswith('# ') else line[1:]\n",
    "                          for line in matches[0].group('content').splitlines(keepends=True))\n",
    "        return '\\n'.join(tomllib.loads(content)['dependencies'])\n",
    "    else: return None"
   ]
  },
  {
   "cell_type": "code",
   "execution_count": null,
   "id": "f9f59ae6",
   "metadata": {},
   "outputs": [],
   "source": [
    "#| export\n",
    "def _tarz(path)->io.BytesIO: # Buffer of tar directory\n",
    "    \"Creates a tar archive of a directory, excluding files based on is_included\"\n",
    "    tarz = io.BytesIO()\n",
    "    files = L(path if path.is_file() else Path(path).iterdir()).filter(is_included)\n",
    "\n",
    "    with tarfile.open(fileobj=tarz, mode='w:gz') as tar:\n",
    "        for f in files: tar.add(f, arcname=f.name)\n",
    "        if path.is_file():\n",
    "            if deps := _deps(path.read_bytes()):\n",
    "                info = tarfile.TarInfo('requirements.txt')\n",
    "                info.size = len(deps)\n",
    "                tar.addfile(info, io.BytesIO(deps.encode('utf-8')))\n",
    "    tarz.seek(0)\n",
    "    return tarz, len(files)"
   ]
  },
  {
   "cell_type": "code",
   "execution_count": null,
   "id": "4c7b7c6a",
   "metadata": {},
   "outputs": [],
   "source": [
    "#| export\n",
    "@call_parse\n",
    "def deploy(\n",
    "    path:Path=Path('.'), # Path to project\n",
    "    app_id:str=None,     # App ID that will be used as the subdomain in plash\n",
    "    local:bool=False,    # Local dev\n",
    "    port:int=5002):      # Port for local dev\n",
    "    '🚀 Ship your app to production'\n",
    "    print('Initializing deployment...')\n",
    "    if path.is_file():\n",
    "        tarz, _ = _tarz(path)\n",
    "        aid = app_id or f'fasthtml-app-{str(uuid4())[:8]}'\n",
    "    else:\n",
    "        validate_app(path)\n",
    "        tarz, _ = _tarz(path)\n",
    "        plash_app = Path(path) / '.plash'\n",
    "        if not app_id and not plash_app.exists():\n",
    "            # Create the .plash file and write the app name\n",
    "            plash_app.write_text(f'export PLASH_APP_ID=fasthtml-app-{str(uuid4())[:8]}')\n",
    "        aid = app_id or parse_env(fn=plash_app)['PLASH_APP_ID']\n",
    "    \n",
    "    resp = mk_auth_req(endpoint(\"/upload\",local,port), \"post\", files={'file': tarz}, timeout=300.0, data={'aid': aid})\n",
    "    if resp.status_code == 200: \n",
    "        print('✅ Upload complete! Your app is currently being built.')\n",
    "        if local: print(f'It will be live at http://{aid}.localhost')\n",
    "        else: print(f'It will be live at https://{aid}.pla.sh')\n",
    "    else:\n",
    "        print(f'Failure {resp.status_code}')\n",
    "        print(f'Failure {resp.text}')"
   ]
  },
  {
   "cell_type": "markdown",
   "id": "492feaa4",
   "metadata": {},
   "source": [
    "## App - view"
   ]
  },
  {
   "cell_type": "code",
   "execution_count": null,
   "id": "75f7d1ab",
   "metadata": {},
   "outputs": [],
   "source": [
    "#| export\n",
    "@call_parse\n",
    "def view(\n",
    "    path:Path=Path('.'), # Path to project\n",
    "    local:bool=False,    # Local dev\n",
    "):\n",
    "    aid = get_app_id(path)\n",
    "    if local: url = f\"http://{aid}.localhost\"\n",
    "    else: url = f\"https://{aid}.pla.sh\"\n",
    "    print(f\"Opening browser to view app :\\n{url}\\n\")\n",
    "    webbrowser.open(url)"
   ]
  },
  {
   "cell_type": "markdown",
   "id": "1a389b5a",
   "metadata": {},
   "source": [
    "## App - delete"
   ]
  },
  {
   "cell_type": "code",
   "execution_count": null,
   "id": "8bdf721f",
   "metadata": {},
   "outputs": [],
   "source": [
    "#| export\n",
    "@call_parse\n",
    "def delete(\n",
    "    path:Path=Path('.'), # Path to project\n",
    "    force:bool=False,    # Skip confirmation prompt\n",
    "    local:bool=False,    # Local dev\n",
    "    port:int=5002):      # Port for local dev\n",
    "    'Delete your deployed app'\n",
    "    aid = get_app_id(path)\n",
    "    if not force:\n",
    "        confirm = input(f\"Are you sure you want to delete app '{aid}'? This action cannot be undone. [y/N]: \")\n",
    "        if confirm.lower() not in ['y', 'yes']:\n",
    "            print(\"Deletion cancelled.\")\n",
    "            return\n",
    "    \n",
    "    print(f\"Deleting app '{aid}'...\")\n",
    "    r = mk_auth_req(endpoint(f\"/delete?aid={aid}\",local,port), \"delete\")\n",
    "    return r.text"
   ]
  },
  {
   "cell_type": "markdown",
   "id": "a7272487",
   "metadata": {},
   "source": [
    "## App - start stop"
   ]
  },
  {
   "cell_type": "code",
   "execution_count": null,
   "id": "a58efc94",
   "metadata": {},
   "outputs": [],
   "source": [
    "#| export\n",
    "def endpoint_func(endpoint_name):\n",
    "    'Creates a function for a specific API endpoint'\n",
    "    @call_parse\n",
    "    def func(\n",
    "        path:Path=Path('.'), # Path to project\n",
    "        local:bool=False,    # Local dev\n",
    "        port:int=5002):      # Port for local dev\n",
    "        aid = get_app_id(path)\n",
    "        r = mk_auth_req(endpoint(f\"{endpoint_name}?aid={aid}\", local, port))\n",
    "        return r.text\n",
    "    \n",
    "    # Set the function name and docstring\n",
    "    func.__name__ = endpoint_name\n",
    "    func.__doc__ = f\"Access the '{endpoint_name}' endpoint for your app\"\n",
    "    \n",
    "    return func\n",
    "\n",
    "# Create endpoint-specific functions\n",
    "stop = endpoint_func('/stop')\n",
    "start = endpoint_func('/start')"
   ]
  },
  {
   "cell_type": "markdown",
   "id": "6d463f8a",
   "metadata": {},
   "source": [
    "## App - logs"
   ]
  },
  {
   "cell_type": "code",
   "execution_count": null,
   "id": "24e62f1f",
   "metadata": {},
   "outputs": [],
   "source": [
    "#| export\n",
    "log_modes = str_enum('log_modes', 'build', 'app')"
   ]
  },
  {
   "cell_type": "code",
   "execution_count": null,
   "id": "a819b06b",
   "metadata": {},
   "outputs": [],
   "source": [
    "#| export\n",
    "@call_parse\n",
    "def logs(\n",
    "    path:Path=Path('.'),    # Path to project\n",
    "    mode:log_modes='build', # Choose between build or app logs\n",
    "    tail:bool=False,        # Tail the logs\n",
    "    local:bool=False,       # Local dev\n",
    "    port:int=5002):         # Port for local dev\n",
    "    'Prints the logs for your deployed app'\n",
    "    aid = get_app_id(path)\n",
    "    if tail:\n",
    "        text = ''\n",
    "        while True:\n",
    "            try:\n",
    "                r = mk_auth_req(endpoint(f\"/logs?aid={aid}&mode={mode}\",local,port))\n",
    "                if r.status_code == 200:\n",
    "                    print(r.text[len(text):], end='') # Only print updates\n",
    "                    text = r.text\n",
    "                    sleep(1)\n",
    "                else:\n",
    "                    print(f\"Error: {r.status_code}\")\n",
    "            except KeyboardInterrupt:\n",
    "                return \"\\nExiting\"\n",
    "    r = mk_auth_req(endpoint(f\"/logs?aid={aid}&mode={mode}\",local,port))\n",
    "    return r.text"
   ]
  },
  {
   "cell_type": "markdown",
   "id": "7b1f0408",
   "metadata": {},
   "source": [
    "## App - download"
   ]
  },
  {
   "cell_type": "code",
   "execution_count": null,
   "id": "047ae74f",
   "metadata": {},
   "outputs": [],
   "source": [
    "#| export\n",
    "@call_parse\n",
    "def download(\n",
    "    path:Path=Path('.'),                # Path to project\n",
    "    save_path:Path=Path(\"./download/\"), # Save path (optional) \n",
    "    local:bool=False,                   # Local dev\n",
    "    port:int=5002,                      # Port for local dev\n",
    "    ):\n",
    "    'Download your deployed app.'\n",
    "    aid = get_app_id(path)\n",
    "    try: save_path.mkdir(exist_ok=False)\n",
    "    except: print(f\"ERROR: Save path ({save_path}) already exists. Please rename or delete this folder to avoid accidental overwrites.\")\n",
    "    else:\n",
    "        response = mk_auth_req(endpoint(f'/download?aid={aid}', local, port)).raise_for_status()\n",
    "        file_bytes = io.BytesIO(response.content)\n",
    "        with tarfile.open(fileobj=file_bytes, mode=\"r:gz\") as tar: tar.extractall(path=save_path)\n",
    "        print(f\"Downloaded your app to: {save_path}\")"
   ]
  },
  {
   "cell_type": "markdown",
   "id": "3748636e",
   "metadata": {},
   "source": [
    "## Export"
   ]
  },
  {
   "cell_type": "code",
   "execution_count": null,
   "id": "16744c6e",
   "metadata": {},
   "outputs": [],
   "source": [
    "#|hide\n",
    "#|eval: false\n",
    "from nbdev.doclinks import nbdev_export\n",
    "nbdev_export()"
   ]
  }
 ],
 "metadata": {
  "kernelspec": {
   "display_name": "python3",
   "language": "python",
   "name": "python3"
  }
 },
 "nbformat": 4,
 "nbformat_minor": 5
}
