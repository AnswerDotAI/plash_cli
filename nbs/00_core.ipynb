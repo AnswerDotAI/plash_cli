{
 "cells": [
  {
   "cell_type": "markdown",
   "id": "fdd6961e",
   "metadata": {},
   "source": [
    "# Core\n",
    "\n",
    "> The Plash CLI tool"
   ]
  },
  {
   "cell_type": "code",
   "execution_count": null,
   "id": "401812e9",
   "metadata": {},
   "outputs": [],
   "source": [
    "#| default_exp core"
   ]
  },
  {
   "cell_type": "code",
   "execution_count": null,
   "id": "702c219c",
   "metadata": {},
   "outputs": [],
   "source": [
    "#| export\n",
    "from fastcore.all import *\n",
    "from fastcore.xdg import *\n",
    "import secrets, webbrowser\n",
    "from httpx import post as xpost, get as xget\n",
    "from pathlib import Path\n",
    "from uuid import uuid4\n",
    "from time import time, sleep\n",
    "\n",
    "import io, sys, tarfile"
   ]
  },
  {
   "cell_type": "code",
   "execution_count": null,
   "id": "2fc99aa4",
   "metadata": {},
   "outputs": [],
   "source": [
    "#| export\n",
    "# TODO: harmonize this (move auth_token.txt content into plash.env?)\n",
    "PLASH_CONFIG_HOME = xdg_config_home() / 'plash.env'\n",
    "TOKEN_FILE = PLASH_CONFIG_HOME.parent / 'plash_auth_token.txt'"
   ]
  },
  {
   "cell_type": "code",
   "execution_count": null,
   "id": "6c388490",
   "metadata": {},
   "outputs": [],
   "source": [
    "#| export\n",
    "def get_global_cfg():\n",
    "    \"\"\"Works for all operating systems.\"\"\"\n",
    "    try: return parse_env(fn=Path(PLASH_CONFIG_HOME))\n",
    "    except FileNotFoundError: \n",
    "        Path(PLASH_CONFIG_HOME).touch()\n",
    "    return parse_env(fn=Path(PLASH_CONFIG_HOME))"
   ]
  },
  {
   "cell_type": "code",
   "execution_count": null,
   "id": "d1638ced",
   "metadata": {},
   "outputs": [],
   "source": [
    "#| export\n",
    "def is_included(path):\n",
    "    \"Returns True if path should be included in deployment\"\n",
    "    if path.name.startswith('.'): return False\n",
    "    if path.suffix == '.pyc': return False\n",
    "    excludes = {'.git', '__pycache__', '.gitignore', '.env', \n",
    "                '.pytest_cache', '.venv', 'venv', '.ipynb_checkpoints',\n",
    "                '.vscode', '.idea', '.sesskey'}\n",
    "    return not any(p in excludes for p in path.parts)"
   ]
  },
  {
   "cell_type": "code",
   "execution_count": null,
   "id": "2dbe8287",
   "metadata": {},
   "outputs": [],
   "source": [
    "#| export\n",
    "def create_tar_archive(path # Path to directory containing FastHTML app\n",
    "                      )->io.BytesIO: # Buffer of tar directory\n",
    "    \"Creates a tar archive of a directory, excluding files based on is_included\"\n",
    "    buf = io.BytesIO()\n",
    "    files = L(Path(path).iterdir()).filter(is_included)\n",
    "\n",
    "    with tarfile.open(fileobj=buf, mode='w:gz') as tar:\n",
    "        for f in files: tar.add(f, arcname=f.name)\n",
    "    buf.seek(0)\n",
    "    return buf, len(files)"
   ]
  },
  {
   "cell_type": "code",
   "execution_count": null,
   "id": "0ab6149c",
   "metadata": {},
   "outputs": [],
   "source": [
    "#| export\n",
    "def validate_app(path):\n",
    "    \"Validates that the app in the directory `path` is deployable as a FastHTML app\"\n",
    "    print(\"Analyzing project structure...\")\n",
    "\n",
    "    main_file = Path(path) / \"main.py\"\n",
    "    if not main_file.exists():\n",
    "        print('[red bold]ERROR: Your FastHTML app must have a main.py[/red bold]')\n",
    "        print(f'Your path is: [bold]{path}[/bold]')\n",
    "        sys.exit(1)"
   ]
  },
  {
   "cell_type": "code",
   "execution_count": null,
   "id": "23e24a43",
   "metadata": {},
   "outputs": [],
   "source": [
    "#| export\n",
    "@call_parse\n",
    "def deploy(\n",
    "    path:Path=Path('.'), # Path to project\n",
    "    local:bool=False,  # local dev\n",
    "    port:int=5002):\n",
    "    \"\"\"🚀 Ship your app to production\"\"\"\n",
    "    print('Initializing deployment...')\n",
    "    validate_app(path)\n",
    "    tarz, filecount = create_tar_archive(path)\n",
    "\n",
    "    plash_app = Path(path) / '.plash'\n",
    "    if not plash_app.exists():\n",
    "        # Create the .plash file and write the app name\n",
    "        plash_app.write_text(f'export PLASH_APP_ID=fasthtml-app-{str(uuid4())[:8]}')\n",
    "    aid = parse_env(fn=plash_app)['PLASH_APP_ID']\n",
    "    plash_token = TOKEN_FILE.read_text()\n",
    "    base_url = 'https://pla.sh' if not local else f'http://localhost:{port}'\n",
    "    url = base_url+\"/api/upload\"\n",
    "    headers = {'Authorization': f'Bearer {plash_token}'}\n",
    "    print(f'Uploading {filecount} files...')\n",
    "    resp = xpost(url, headers=headers, files={'file': tarz}, timeout=300.0,\n",
    "                data={'aid': aid})\n",
    "    if resp.status_code == 200: \n",
    "        print('✅ Upload complete! Your app is currently being built.')\n",
    "        print(f'It will be live at https://{aid}.pla.sh')\n",
    "    else:\n",
    "        print(f'Failure {resp.status_code}')\n",
    "        print(f'Failure {resp.text}')"
   ]
  },
  {
   "cell_type": "code",
   "execution_count": null,
   "id": "42fb87eb",
   "metadata": {},
   "outputs": [],
   "source": [
    "# deploy('test_apps/minimal')"
   ]
  },
  {
   "cell_type": "markdown",
   "id": "38272c9a",
   "metadata": {},
   "source": [
    "## Oauth login"
   ]
  },
  {
   "cell_type": "code",
   "execution_count": null,
   "id": "e6219c6e",
   "metadata": {},
   "outputs": [],
   "source": [
    "#| export\n",
    "def poll_token(paircode, base_url, interval=1, timeout=180):\n",
    "    \"Poll server for token until received or timeout\"\n",
    "    start = time()\n",
    "    while time()-start < timeout:\n",
    "        resp = xget(f\"{base_url}/api/token?paircode={paircode}\").raise_for_status()\n",
    "        if resp.text.strip(): return resp.text\n",
    "        sleep(interval)\n",
    "        \n",
    "@call_parse\n",
    "def login(\n",
    "    local:bool=False,  # local dev\n",
    "    port:int=5002      # port for local development\n",
    "):\n",
    "    \"Authenticate CLI with server and save token\"\n",
    "    base_url = 'https://pla.sh' if not local else f'http://localhost:{port}'\n",
    "    paircode = secrets.token_urlsafe(16)\n",
    "    login_url = xget(base_url+f'/api/login?paircode={paircode}').text\n",
    "    print(f\"Opening browser for authentication:\\n{login_url}\\n\")\n",
    "    webbrowser.open(login_url)\n",
    "    \n",
    "    token = poll_token(paircode, base_url)\n",
    "    if token:\n",
    "        Path(TOKEN_FILE).write_text(token)\n",
    "        print(f\"Authentication successful! Token saved to {TOKEN_FILE}\")\n",
    "    else: print(\"Authentication timed out.\")"
   ]
  },
  {
   "cell_type": "markdown",
   "id": "492feaa4",
   "metadata": {},
   "source": [
    "## View app"
   ]
  },
  {
   "cell_type": "code",
   "execution_count": null,
   "id": "75f7d1ab",
   "metadata": {},
   "outputs": [],
   "source": [
    "#| export\n",
    "@call_parse\n",
    "def view(\n",
    "    path:Path=Path('.'), # Path to project\n",
    "):\n",
    "    app_id = (Path(path) / '.plash').read_text().split(\"=\")[-1]\n",
    "    url = f\"https://{app_id}.pla.sh\"\n",
    "    print(f\"Opening browser to view app :\\n{url}\\n\")\n",
    "    webbrowser.open(url)"
   ]
  },
  {
   "cell_type": "markdown",
   "id": "a6a3be34",
   "metadata": {},
   "source": [
    "## View logs"
   ]
  },
  {
   "cell_type": "code",
   "execution_count": null,
   "id": "d09c78d3",
   "metadata": {},
   "outputs": [],
   "source": [
    "#| export\n",
    "@call_parse\n",
    "def logs(\n",
    "    path:Path=Path('.'), # Path to project\n",
    "    local:bool=False,  # local dev\n",
    "    port:int=5002):\n",
    "    plash_app = Path(path) / '.plash'\n",
    "    if not plash_app.exists():\n",
    "        print(f\"File not found: {plash_app=}\")\n",
    "        return\n",
    "    aid = parse_env(fn=plash_app)['PLASH_APP_ID']\n",
    "    plash_token = TOKEN_FILE.read_text()\n",
    "    base_url = 'https://pla.sh' if not local else f'http://localhost:{port}'\n",
    "    url = base_url+\"/api/logs\"\n",
    "    headers = {'Authorization': f'Bearer {plash_token}'}\n",
    "    resp = xpost(url, headers=headers, data={'aid': aid})\n",
    "    return resp.content"
   ]
  },
  {
   "cell_type": "markdown",
   "id": "3748636e",
   "metadata": {},
   "source": [
    "## Export"
   ]
  },
  {
   "cell_type": "code",
   "execution_count": null,
   "id": "16744c6e",
   "metadata": {},
   "outputs": [],
   "source": [
    "#|hide\n",
    "#|eval: false\n",
    "from nbdev.doclinks import nbdev_export\n",
    "nbdev_export()"
   ]
  }
 ],
 "metadata": {
  "kernelspec": {
   "display_name": "python3",
   "language": "python",
   "name": "python3"
  }
 },
 "nbformat": 4,
 "nbformat_minor": 5
}
