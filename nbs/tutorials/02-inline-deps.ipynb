{
 "cells": [
  {
   "cell_type": "markdown",
   "metadata": {},
   "source": [
    "# Different ways to add python deps"
   ]
  },
  {
   "cell_type": "markdown",
   "metadata": {},
   "source": [
    "In this tutorial you will learn how to deploy your first app. \n",
    "This tutorial will explore the basics of using Plash and help you get familiar with it at a high level.\n",
    "\n",
    "**Objectives:**\n",
    "\n",
    "- [ ] Install the Commandline Interface (CLI)\n",
    "- [ ] Login via the CLI\n",
    "- [ ] Create your app file\n",
    "- [ ] Deploy your app\n",
    "- [ ] View your app logs\n",
    "- [ ] View your app in the browser\n",
    "\n",
    "**Prerequisites:**\n",
    "\n",
    "* A registered account at https://pla.sh\n",
    "* Basic terminal / command line skills\n",
    "* Basic text editor skills"
   ]
  },
  {
   "cell_type": "markdown",
   "metadata": {},
   "source": [
    "### App Dependencies\n",
    "\n",
    "If your app needs additional dependencies to run, we offer a number of ways to have them included in your deployed app."
   ]
  },
  {
   "cell_type": "markdown",
   "metadata": {},
   "source": [
    "#### Python Dependencies"
   ]
  },
  {
   "cell_type": "markdown",
   "metadata": {},
   "source": [
    "Python dependencies can be provided in one of two ways:\n",
    "\n",
    "1. a `requirements.txt` file ([example](https://github.com/AnswerDotAI/plash_cli/tree/main/nbs/test_apps/minimal))\n",
    "2. a `main.py` file with inline dependencies according to PEP723 ([example](https://github.com/answerdotai/plash_cli/nbs/test_apps/script_app))\n",
    "\n",
    "Please note:\n",
    "\n",
    "- Always include `python-fasthtml` as a dependency\n",
    "- Declare dependencies using exactly one of the above ways, not both"
   ]
  }
 ],
 "metadata": {
  "kernelspec": {
   "display_name": "python3",
   "language": "python",
   "name": "python3"
  }
 },
 "nbformat": 4,
 "nbformat_minor": 2
}
