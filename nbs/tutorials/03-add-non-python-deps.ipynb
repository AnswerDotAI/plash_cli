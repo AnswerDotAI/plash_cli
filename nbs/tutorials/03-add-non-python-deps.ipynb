{
 "cells": [
  {
   "cell_type": "markdown",
   "metadata": {},
   "source": [
    "# Add non-python dependencies"
   ]
  },
  {
   "cell_type": "markdown",
   "metadata": {},
   "source": [
    "#### Non-Python Dependencies"
   ]
  },
  {
   "cell_type": "markdown",
   "metadata": {},
   "source": [
    "For any other depencies of setup processes, you can provide a `setup.sh` which will be executed during the build step of your app. For example, you can use this to install apt packages (this is ran as root in your apps container, so omit any `sudo`):\n",
    "```bash\n",
    "#!/bin/bash\n",
    "apt install <package_name>\n",
    "```"
   ]
  }
 ],
 "metadata": {},
 "nbformat": 4,
 "nbformat_minor": 2
}
