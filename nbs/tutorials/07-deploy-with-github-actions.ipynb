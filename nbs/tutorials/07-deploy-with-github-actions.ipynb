{
 "cells": [
  {
   "cell_type": "markdown",
   "metadata": {},
   "source": [
    "# Github Actions"
   ]
  },
  {
   "cell_type": "markdown",
   "metadata": {},
   "source": [
    "## Deploy to Pla.sh via GitHub Actions\n",
    "\n",
    "If you'd like to deploy your plash app every time you commit changes to\n",
    "your GitHub repo, you can use the following workflow to your\n",
    "`.github/workflows/` folder in the root of your repo:\n",
    "\n",
    "```yaml\n",
    "name: Deploy to Plash\n",
    "\n",
    "on:\n",
    "  push:\n",
    "    branches:\n",
    "      - main\n",
    "  workflow_dispatch:\n",
    "\n",
    "jobs:\n",
    "  deploy:\n",
    "    runs-on: ubuntu-latest\n",
    "    steps:\n",
    "      - name: Checkout repository\n",
    "        uses: actions/checkout@v3\n",
    "\n",
    "      - name: Set up Python\n",
    "        uses: actions/setup-python@v4\n",
    "        with:\n",
    "          python-version: '3.x'\n",
    "\n",
    "      - name: Create Plash config\n",
    "        run: |\n",
    "          mkdir -p ~/.config\n",
    "          echo '${{ secrets.PLASH_CONFIG }}' > ~/.config/plash_config.json\n",
    "\n",
    "      - name: Install plash-cli with pip\n",
    "        run: pip install plash-cli\n",
    "\n",
    "      - name: Deploy to Plash\n",
    "        run: plash_deploy\n",
    "```\n",
    "\n",
    "It relies on storing your plash config as a secret named `PLASH_CONFIG` in\n",
    "your GitHub repo. After running `plash_login`, you can find these in `~/.config/plash_config.json` (unless you haved changed the XDG_CONFIG_HOME environment variable).\n",
    "Learn more about GitHub secrets [here](https://docs.github.com/en/actions/security-for-github-actions/security-guides/using-secrets-in-github-actions)."
   ]
  },
  {
   "cell_type": "code",
   "execution_count": null,
   "metadata": {},
   "outputs": [],
   "source": []
  }
 ],
 "metadata": {},
 "nbformat": 4,
 "nbformat_minor": 2
}
