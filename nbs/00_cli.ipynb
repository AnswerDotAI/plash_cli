{
 "cells": [
  {
   "cell_type": "markdown",
   "id": "fdd6961e",
   "metadata": {},
   "source": [
    "# CLI\n",
    "\n",
    "> The Plash CLI tool"
   ]
  },
  {
   "cell_type": "markdown",
   "id": "1bdb6ac6",
   "metadata": {},
   "source": [
    "This module implements the Plash CLI functions.\n",
    "As they're built with fastcore `@call_parse` they can also be used in python directly."
   ]
  },
  {
   "cell_type": "code",
   "execution_count": null,
   "id": "401812e9",
   "metadata": {},
   "outputs": [],
   "source": [
    "#| default_exp cli"
   ]
  },
  {
   "cell_type": "code",
   "execution_count": null,
   "id": "702c219c",
   "metadata": {},
   "outputs": [],
   "source": [
    "#| export\n",
    "from fastcore.all import *\n",
    "from fastcore.xdg import *\n",
    "import secrets, webbrowser, json, httpx, io, tarfile, random, string\n",
    "from pathlib import Path\n",
    "from uuid import uuid4\n",
    "from time import time, sleep\n",
    "import io, os, re, tarfile, tomllib\n",
    "\n",
    "from plash_cli import __version__"
   ]
  },
  {
   "cell_type": "code",
   "execution_count": null,
   "id": "02b571da",
   "metadata": {},
   "outputs": [],
   "source": [
    "#| hide\n",
    "from tempfile import TemporaryDirectory\n",
    "from nbdev.showdoc import show_doc"
   ]
  },
  {
   "cell_type": "markdown",
   "id": "bfa048dd",
   "metadata": {},
   "source": [
    "## Helpers -"
   ]
  },
  {
   "cell_type": "code",
   "execution_count": null,
   "id": "2fc99aa4",
   "metadata": {},
   "outputs": [],
   "source": [
    "#| export\n",
    "PLASH_CONFIG_HOME = xdg_config_home() / 'plash_config.json'\n",
    "PLASH_DOMAIN = os.getenv(\"PLASH_DOMAIN\",\"pla.sh\")  # pla.sh plash-dev.answer.ai localhost:5002\n",
    "IN_DEV = PLASH_DOMAIN.endswith('.internal')"
   ]
  },
  {
   "cell_type": "code",
   "execution_count": null,
   "id": "6c388490",
   "metadata": {},
   "outputs": [],
   "source": [
    "#| export\n",
    "def _get_client(cookie_file):\n",
    "    client = httpx.Client(verify=not IN_DEV)\n",
    "    if not cookie_file.exists():\n",
    "        raise FileNotFoundError(\"Plash config not found. Please run plash_login and try again.\")\n",
    "    cookies = Path(cookie_file).read_json()\n",
    "    client.cookies.update(cookies)\n",
    "    client.headers.update({'X-PLASH': 'true', 'User-Agent': f'plash_cli/{__version__}'})\n",
    "    return client"
   ]
  },
  {
   "cell_type": "code",
   "execution_count": null,
   "id": "47d01e47",
   "metadata": {},
   "outputs": [],
   "source": [
    "#| export\n",
    "def _mk_auth_req(url:str, method:str='get', timeout=300., **kwargs):\n",
    "    r = getattr(_get_client(PLASH_CONFIG_HOME), method)(url, timeout=timeout, **kwargs)\n",
    "    if r.status_code == 200: return r\n",
    "    else: print(f'Failure: {r.headers[\"X-Plash-Error\"]}')"
   ]
  },
  {
   "cell_type": "code",
   "execution_count": null,
   "id": "7edae5c8",
   "metadata": {},
   "outputs": [],
   "source": [
    "#| export\n",
    "def _get_app_name(path:Path):\n",
    "    plash_app = Path(path) / '.plash'\n",
    "    if not plash_app.exists(): raise FileNotFoundError(f\"File not found: {plash_app=}\")\n",
    "    env = parse_env(fn=plash_app)\n",
    "    if name:=env.get(\"PLASH_APP_NAME\"): return name\n",
    "    if aid :=env.get('PLASH_APP_ID'): \n",
    "            plash_app.write_text(f\"export PLASH_APP_NAME={aid}\")\n",
    "            return aid\n",
    "    raise RuntimeError(f\"{plash_app=} did not have a PLASH_APP_NAME\")\n"
   ]
  },
  {
   "cell_type": "code",
   "execution_count": null,
   "id": "acaf42cf",
   "metadata": {},
   "outputs": [],
   "source": [
    "#| export\n",
    "def _endpoint(sub='', rt=''):\n",
    "    p = \"http\" if \"localhost\" in PLASH_DOMAIN else \"https\"\n",
    "    return f\"{p}://{sub}{'.' if sub else ''}{PLASH_DOMAIN}{rt}\""
   ]
  },
  {
   "cell_type": "code",
   "execution_count": null,
   "id": "d1638ced",
   "metadata": {},
   "outputs": [],
   "source": [
    "#| export\n",
    "def _is_included(path):\n",
    "    \"Returns True if path should be included in deployment\"\n",
    "    if path.name.startswith('.'): return False\n",
    "    if path.suffix == '.pyc': return False\n",
    "    excludes = {'.git', '__pycache__', '.gitignore', '.env', \n",
    "                '.pytest_cache', '.venv', 'venv', '.ipynb_checkpoints',\n",
    "                '.vscode', '.idea', '.sesskey'}\n",
    "    return not any(p in excludes for p in path.parts)"
   ]
  },
  {
   "cell_type": "code",
   "execution_count": null,
   "id": "a20045ed",
   "metadata": {},
   "outputs": [],
   "source": [
    "#| export\n",
    "#| hide\n",
    "class PlashError(Exception): pass"
   ]
  },
  {
   "cell_type": "code",
   "execution_count": null,
   "id": "b7d4028e",
   "metadata": {},
   "outputs": [],
   "source": [
    "#| export\n",
    "def _poll_cookies(paircode, interval=1, timeout=180):\n",
    "    \"Poll server for token until received or timeout\"\n",
    "    start = time()\n",
    "    client = httpx.Client(verify=not IN_DEV)\n",
    "    url = _endpoint(rt=f\"/cli_token?paircode={paircode}\")\n",
    "    while time()-start < timeout:\n",
    "        resp = client.get(url).raise_for_status()\n",
    "        if resp.text.strip(): return dict(client.cookies)\n",
    "        sleep(interval)\n",
    "     "
   ]
  },
  {
   "cell_type": "code",
   "execution_count": null,
   "id": "e6219c6e",
   "metadata": {},
   "outputs": [],
   "source": [
    "#| export   \n",
    "@call_parse\n",
    "def login():\n",
    "    \"Authenticate CLI with server and save config\"\n",
    "    paircode = secrets.token_urlsafe(16)\n",
    "    if not IN_DEV:\n",
    "        login_url = httpx.get(_endpoint(rt=f\"/cli_login?paircode={paircode}\")).text\n",
    "        print(f\"Opening browser for authentication:\\n{login_url}\\n\")\n",
    "        webbrowser.open(login_url)\n",
    "    \n",
    "    cookies = _poll_cookies(paircode)\n",
    "    if cookies:\n",
    "        Path(PLASH_CONFIG_HOME).write_text(json.dumps(cookies))\n",
    "        print(f\"Authentication successful! Config saved to {PLASH_CONFIG_HOME}\")\n",
    "    else: print(\"Authentication timed out.\")"
   ]
  },
  {
   "cell_type": "markdown",
   "id": "466bd08d",
   "metadata": {},
   "source": [
    "CLI usage:"
   ]
  },
  {
   "cell_type": "code",
   "execution_count": null,
   "id": "d8f6668b",
   "metadata": {},
   "outputs": [
    {
     "name": "stdout",
     "output_type": "stream",
     "text": [
      "usage: plash_login [-h]\n",
      "\n",
      "Authenticate CLI with server and save config\n",
      "\n",
      "options:\n",
      "  -h, --help  show this help message and exit\n"
     ]
    }
   ],
   "source": [
    "%%bash\n",
    "plash_login --help"
   ]
  },
  {
   "cell_type": "code",
   "execution_count": null,
   "id": "d52c060e",
   "metadata": {},
   "outputs": [],
   "source": [
    "#| export\n",
    "pat = r'(?m)^# /// (?P<type>[a-zA-Z0-9-]+)$\\s(?P<content>(^#(| .*)$\\s)+)^# ///$'\n",
    "\n",
    "def _deps(script: bytes | str) -> dict | None:\n",
    "    'Get the dependencies from the script. From: https://peps.python.org/pep-0723/'\n",
    "    name = 'script'\n",
    "    if isinstance(script, bytes): script = script.decode('utf-8')\n",
    "    matches = L(re.finditer(pat, script)).filter(lambda m: m.group('type') == name)\n",
    "    if len(matches) > 1: raise ValueError(f'Multiple {name} blocks found')\n",
    "    elif len(matches) == 1:\n",
    "        content = ''.join(line[2:] if line.startswith('# ') else line[1:]\n",
    "                          for line in matches[0].group('content').splitlines(keepends=True))\n",
    "        return '\\n'.join(tomllib.loads(content)['dependencies'])\n",
    "    else: return None"
   ]
  },
  {
   "cell_type": "code",
   "execution_count": null,
   "id": "1ae2e374",
   "metadata": {},
   "outputs": [],
   "source": [
    "#| hide\n",
    "# Lets test on some demo apps:\n",
    "test_eq(_deps(Path(\"../examples/inline_dependencies/main.py\").read_text()),\"python-fasthtml\")\n",
    "test_is(_deps(Path(\"../examples/fasthtml/main.py\").read_text()),None)"
   ]
  },
  {
   "cell_type": "code",
   "execution_count": null,
   "id": "3747912c",
   "metadata": {},
   "outputs": [],
   "source": [
    "#| export\n",
    "def _validate_app(path):\n",
    "    \"Validates directory `path` is a deployable Plash app\"\n",
    "    if not (path / 'main.py').exists():\n",
    "        raise PlashError('A Plash app requires a main.py file.')\n",
    "    deps = _deps((path / 'main.py').read_text(encoding='utf-8'))\n",
    "    if  deps and (path/\"requirements.txt\").exists(): \n",
    "        raise PlashError('A Plash app should not contain both a requirements.txt file and inline dependencies (see PEP723).')"
   ]
  },
  {
   "cell_type": "code",
   "execution_count": null,
   "id": "2eb4814e",
   "metadata": {},
   "outputs": [],
   "source": [
    "#| hide\n",
    "# All test apps should be valid:\n",
    "for d in Path(\"../examples/\").iterdir(): test_is(_validate_app(d),None)"
   ]
  },
  {
   "cell_type": "code",
   "execution_count": null,
   "id": "79a4ad5a",
   "metadata": {},
   "outputs": [],
   "source": [
    "#| hide\n",
    "# Lets test each failure case:\n",
    "with TemporaryDirectory() as td:\n",
    "    td = Path(td)\n",
    "    test_fail(_validate_app, args=(td,), contains=\"main.py\")\n",
    "    \n",
    "    # test failure case of deps in both main.py and requirements.txt\n",
    "    (td / \"requirements.txt\").write_text(\"\")\n",
    "    (td / \"main.py\").write_text(Path(\"../examples/inline_dependencies/main.py\").read_text())\n",
    "    test_fail(_validate_app, args=(td,), contains=\"not contain both\")"
   ]
  },
  {
   "cell_type": "code",
   "execution_count": null,
   "id": "ee0a7f14",
   "metadata": {},
   "outputs": [],
   "source": [
    "#| export\n",
    "#| hide\n",
    "def create_tar_archive(path:Path, force_data:bool=False) -> tuple[io.BytesIO, int]:\n",
    "    \"Creates a tar archive of a directory, excluding files based on is_included\"\n",
    "    tarz = io.BytesIO()\n",
    "    files = L(path if path.is_file() else Path(path).iterdir()).filter(_is_included)\n",
    "    if not force_data: files = files.filter(lambda f: f.name != 'data')\n",
    "    with tarfile.open(fileobj=tarz, mode='w:gz') as tar:\n",
    "        for f in files: tar.add(f, arcname=f.name)\n",
    "        if deps:=_deps((path / 'main.py').read_bytes()):\n",
    "            info = tarfile.TarInfo('requirements.txt')\n",
    "            info.size = len(deps)\n",
    "            tar.addfile(info, io.BytesIO(deps.encode('utf-8')))\n",
    "    tarz.seek(0)\n",
    "    return tarz, len(files)"
   ]
  },
  {
   "cell_type": "code",
   "execution_count": null,
   "id": "c63b21de",
   "metadata": {},
   "outputs": [],
   "source": [
    "#| export\n",
    "def _gen_app_name():\n",
    "    adjectives = ['admiring', 'adoring', 'amazing', 'awesome', 'beautiful', 'blissful', 'bold', 'brave', 'busy', 'charming', 'clever', 'compassionate', 'confident', 'cool', 'dazzling', 'determined', 'dreamy', 'eager', 'ecstatic', 'elastic', 'elated', 'elegant', 'epic', 'exciting', 'fervent', 'festive', 'flamboyant', 'focused', 'friendly', 'frosty', 'funny', 'gallant', 'gifted', 'goofy', 'gracious', 'great', 'happy', 'hopeful', 'hungry', 'inspiring', 'intelligent', 'interesting', 'jolly', 'jovial', 'keen', 'kind', 'laughing', 'loving', 'lucid', 'magical', 'modest', 'nice', 'nifty', 'nostalgic', 'objective', 'optimistic', 'peaceful', 'pensive', 'practical', 'priceless', 'quirky', 'quizzical', 'relaxed', 'reverent', 'romantic', 'serene', 'sharp', 'silly', 'sleepy', 'stoic', 'sweet', 'tender', 'trusting', 'upbeat', 'vibrant', 'vigilant', 'vigorous', 'wizardly', 'wonderful', 'youthful', 'zealous', 'zen', 'golden', 'silver', 'crimson', 'azure', 'emerald', 'violet', 'amber', 'coral', 'turquoise', 'lavender', 'minty', 'citrus', 'vanilla', 'woody', 'floral', 'fresh', 'gentle', 'sparkling', 'precise', 'curious']\n",
    "    nouns = ['tiger', 'eagle', 'river', 'mountain', 'forest', 'ocean', 'star', 'moon', 'wind', 'dragon', 'phoenix', 'wolf', 'bear', 'lion', 'shark', 'falcon', 'raven', 'crystal', 'diamond', 'ruby', 'sapphire', 'pearl', 'wave', 'tide', 'cloud', 'rainbow', 'sunset', 'sunrise', 'galaxy', 'comet', 'meteor', 'planet', 'nebula', 'cosmos', 'universe', 'atom', 'photon', 'quantum', 'matrix', 'cipher', 'code', 'signal', 'pulse', 'beam', 'ray', 'spark', 'frost', 'ice', 'snow', 'mist', 'fog', 'dew', 'rain', 'hail', 'helix', 'prism', 'lens', 'mirror', 'echo', 'heart', 'mind', 'dream', 'vision', 'hope', 'wish', 'magic', 'spell', 'charm', 'rune', 'symbol', 'token', 'key', 'door', 'gate', 'bridge', 'tower', 'castle', 'fortress', 'shield', 'dolphin', 'whale', 'penguin', 'butterfly', 'hummingbird', 'deer', 'rabbit', 'fox', 'otter', 'panda', 'koala', 'zebra', 'giraffe', 'elephant', 'valley', 'canyon', 'meadow', 'prairie', 'island', 'lake', 'pond', 'stream', 'waterfall', 'cliff', 'peak', 'hill', 'grove', 'garden', 'sunlight', 'breeze', 'melody', 'sparkle', 'whirlpool', 'windmill', 'carousel', 'spiral', 'glow']\n",
    "    verbs = ['runs', 'flies', 'jumps', 'builds', 'creates', 'flows', 'shines', 'grows', 'moves', 'works', 'dances', 'sings', 'plays', 'dreams', 'thinks', 'learns', 'teaches', 'helps', 'heals', 'saves', 'protects', 'guards', 'watches', 'sees', 'hears', 'feels', 'knows', 'understands', 'discovers', 'explores', 'searches', 'finds', 'seeks', 'holds', 'carries', 'lifts', 'pushes', 'pulls', 'makes', 'crafts', 'forges', 'shapes', 'forms', 'molds', 'carves', 'joins', 'connects', 'links', 'binds', 'ties', 'opens', 'closes', 'starts', 'stops', 'begins', 'ends', 'finishes', 'completes', 'wins', 'triumphs', 'succeeds', 'achieves', 'accomplishes', 'reaches', 'arrives', 'departs', 'leaves', 'returns', 'comes', 'goes', 'travels', 'journeys', 'walks', 'sprints', 'races', 'speeds', 'rushes', 'hurries', 'waits', 'pauses', 'rests', 'sleeps', 'wakes', 'rises', 'climbs', 'ascends', 'descends', 'swims', 'dives', 'surfs', 'sails', 'paddles', 'hikes', 'treks', 'wanders', 'roams', 'ventures', 'navigates', 'glides', 'soars', 'floats', 'drifts', 'tosses', 'divides', 'shares', 'secures', 'settles', 'places', 'wonders', 'questions']\n",
    "    suffix = ''.join(random.choices(string.ascii_lowercase + string.digits, k=3))\n",
    "    return f\"{random.choice(adjectives)}-{random.choice(nouns)}-{random.choice(verbs)}-{suffix}\""
   ]
  },
  {
   "cell_type": "code",
   "execution_count": null,
   "id": "4c7b7c6a",
   "metadata": {},
   "outputs": [],
   "source": [
    "#| export\n",
    "@call_parse\n",
    "def deploy(\n",
    "    path:Path=Path('.'),    # Path to project\n",
    "    name:str=None,          # Overrides the .plash file in project root if provided\n",
    "    force_data:bool=False): # Overwrite data/ directory during deployment\n",
    "    \"\"\"\n",
    "    Deploys app to production. By default, this command erases all files in your app which are not in data/.\n",
    "    Then uploads all files and folders, except paths starting with `.` and except the local data/ directory.\n",
    "    If `--force_data` is used, then it erases all files in production. Then it uploads all files and folders,\n",
    "    including `data/`, except paths starting with `.`.\n",
    "    \"\"\"\n",
    "    print('Initializing deployment...')\n",
    "    if name == '': print('Error: App name cannot be an empty string'); return\n",
    "    if not path.is_dir(): print(\"Error: Path should point to the project directory\"); return\n",
    "    try: _validate_app(path)\n",
    "    except PlashError as e: print(f\"Error: {str(e)}\\nInvalid path: {path}\"); return\n",
    "    \n",
    "    try: \n",
    "        if not name: name = _get_app_name(path)\n",
    "    except FileNotFoundError:\n",
    "        plash_app = path / '.plash'\n",
    "        name = _gen_app_name()\n",
    "        plash_app.write_text(f'export PLASH_APP_NAME={name}')\n",
    "    \n",
    "    tarz, _ = create_tar_archive(path, force_data)\n",
    "    r = _mk_auth_req(_endpoint(rt=\"/upload\"), \"post\", files={'file': tarz},\n",
    "                     data={'name': name, 'force_data': force_data})\n",
    "    if r:\n",
    "        print('✅ Upload complete! Your app is currently being built.')\n",
    "        print(f'It will be live at {name if \".\" in name else _endpoint(sub=name)}')"
   ]
  },
  {
   "cell_type": "markdown",
   "id": "89457337",
   "metadata": {},
   "source": [
    "CLI usage:"
   ]
  },
  {
   "cell_type": "code",
   "execution_count": null,
   "id": "43aef875",
   "metadata": {},
   "outputs": [
    {
     "name": "stdout",
     "output_type": "stream",
     "text": [
      "usage: plash_deploy [-h] [--path PATH] [--name NAME] [--force_data]\n",
      "\n",
      "Deploys app to production. By default, this command erases all files in your app which are not in data/. Then uploads\n",
      "all files and folders, except paths starting with `.` and except the local data/ directory. If `--force_data` is used,\n",
      "then it erases all files in production. Then it uploads all files and folders, including `data/`, except paths starting\n",
      "with `.`.\n",
      "\n",
      "options:\n",
      "  -h, --help    show this help message and exit\n",
      "  --path PATH   Path to project (default: .)\n",
      "  --name NAME   Overrides the .plash file in project root if provided\n",
      "  --force_data  Overwrite data/ directory during deployment (default: False)\n"
     ]
    }
   ],
   "source": [
    "%%bash\n",
    "plash_deploy --help"
   ]
  },
  {
   "cell_type": "code",
   "execution_count": null,
   "id": "75f7d1ab",
   "metadata": {},
   "outputs": [],
   "source": [
    "#| export\n",
    "@call_parse\n",
    "def view(\n",
    "    path:Path=Path('.'), # Path to project directory\n",
    "    name:str=None,     # Overrides the .plash file in project root if provided\n",
    "):\n",
    "    \"Open your app in the browser\"\n",
    "    if not name: name = _get_app_name(path)\n",
    "    url = name if '.' in name else _endpoint(sub=name)\n",
    "    print(f\"Opening browser to view app :\\n{url}\\n\")\n",
    "    webbrowser.open(url)"
   ]
  },
  {
   "cell_type": "markdown",
   "id": "fdf68773",
   "metadata": {},
   "source": [
    "CLI usage:"
   ]
  },
  {
   "cell_type": "code",
   "execution_count": null,
   "id": "0b3a7e90",
   "metadata": {},
   "outputs": [
    {
     "name": "stdout",
     "output_type": "stream",
     "text": [
      "usage: plash_view [-h] [--path PATH] [--name NAME]\n",
      "\n",
      "Open your app in the browser\n",
      "\n",
      "options:\n",
      "  -h, --help   show this help message and exit\n",
      "  --path PATH  Path to project directory (default: .)\n",
      "  --name NAME  Overrides the .plash file in project root if provided\n"
     ]
    }
   ],
   "source": [
    "%%bash\n",
    "plash_view --help"
   ]
  },
  {
   "cell_type": "code",
   "execution_count": null,
   "id": "8bdf721f",
   "metadata": {},
   "outputs": [],
   "source": [
    "#| export\n",
    "@call_parse\n",
    "def delete(\n",
    "    path:Path=Path('.'), # Path to project\n",
    "    name:str=None,     # Overrides the .plash file in project root if provided\n",
    "    force:bool=False):   # Skip confirmation prompt\n",
    "    'Delete your deployed app'\n",
    "    if not name: name = _get_app_name(path)\n",
    "    if not force:\n",
    "        confirm = input(f\"Are you sure you want to delete app '{name}'? This action cannot be undone. [y/N]: \")\n",
    "        if confirm.lower() not in ['y', 'yes']:\n",
    "            print(\"Deletion cancelled.\")\n",
    "            return\n",
    "    \n",
    "    print(f\"Deleting app '{name}'...\")\n",
    "    if r := _mk_auth_req(_endpoint(rt=f\"/delete?name={name}\"), \"delete\"): return r.text"
   ]
  },
  {
   "cell_type": "markdown",
   "id": "02ce4416",
   "metadata": {},
   "source": [
    "CLI usage:"
   ]
  },
  {
   "cell_type": "code",
   "execution_count": null,
   "id": "df6721eb",
   "metadata": {},
   "outputs": [
    {
     "name": "stdout",
     "output_type": "stream",
     "text": [
      "usage: plash_delete [-h] [--path PATH] [--name NAME] [--force]\n",
      "\n",
      "Delete your deployed app\n",
      "\n",
      "options:\n",
      "  -h, --help   show this help message and exit\n",
      "  --path PATH  Path to project (default: .)\n",
      "  --name NAME  Overrides the .plash file in project root if provided\n",
      "  --force      Skip confirmation prompt (default: False)\n"
     ]
    }
   ],
   "source": [
    "%%bash\n",
    "plash_delete --help"
   ]
  },
  {
   "cell_type": "code",
   "execution_count": null,
   "id": "8133e01d",
   "metadata": {},
   "outputs": [],
   "source": [
    "#| export\n",
    "@call_parse\n",
    "def start(path:Path=Path('.'), name:str=None):\n",
    "    \"Start your deployed app\"\n",
    "    if not name: name = _get_app_name(path)\n",
    "    if r := _mk_auth_req(_endpoint(rt=f\"/start?name={name}\")): return r.text"
   ]
  },
  {
   "cell_type": "markdown",
   "id": "4bce5102",
   "metadata": {},
   "source": [
    "CLI usage:"
   ]
  },
  {
   "cell_type": "code",
   "execution_count": null,
   "id": "74a2460d",
   "metadata": {},
   "outputs": [
    {
     "name": "stdout",
     "output_type": "stream",
     "text": [
      "usage: plash_start [-h] [--path PATH] [--name NAME]\n",
      "\n",
      "Start your deployed app\n",
      "\n",
      "options:\n",
      "  -h, --help   show this help message and exit\n",
      "  --path PATH  (default: .)\n",
      "  --name NAME\n"
     ]
    }
   ],
   "source": [
    "%%bash\n",
    "plash_start --help"
   ]
  },
  {
   "cell_type": "code",
   "execution_count": null,
   "id": "b7a25b65",
   "metadata": {},
   "outputs": [],
   "source": [
    "#| export\n",
    "@call_parse  \n",
    "def stop(path:Path=Path('.'), name:str=None):\n",
    "    \"Stop your deployed app\" \n",
    "    if not name: name = _get_app_name(path)\n",
    "    if r := _mk_auth_req(_endpoint(rt=f\"/stop?name={name}\")): return r.text"
   ]
  },
  {
   "cell_type": "markdown",
   "id": "280e6dc7",
   "metadata": {},
   "source": [
    "CLI usage:"
   ]
  },
  {
   "cell_type": "code",
   "execution_count": null,
   "id": "2e280af5",
   "metadata": {},
   "outputs": [
    {
     "name": "stdout",
     "output_type": "stream",
     "text": [
      "usage: plash_stop [-h] [--path PATH] [--name NAME]\n",
      "\n",
      "Stop your deployed app\n",
      "\n",
      "options:\n",
      "  -h, --help   show this help message and exit\n",
      "  --path PATH  (default: .)\n",
      "  --name NAME\n"
     ]
    }
   ],
   "source": [
    "%%bash\n",
    "plash_stop --help"
   ]
  },
  {
   "cell_type": "code",
   "execution_count": null,
   "id": "24e62f1f",
   "metadata": {},
   "outputs": [],
   "source": [
    "#| export\n",
    "log_modes = str_enum('log_modes', 'build', 'app')"
   ]
  },
  {
   "cell_type": "code",
   "execution_count": null,
   "id": "a819b06b",
   "metadata": {},
   "outputs": [],
   "source": [
    "#| export\n",
    "@call_parse\n",
    "def logs(\n",
    "    path:Path=Path('.'),    # Path to project\n",
    "    name:str=None,          # Overrides the .plash file in project root if provided\n",
    "    mode:log_modes='build', # Choose between build or app logs\n",
    "    tail:bool=False):       # Tail the logs\n",
    "    'Prints the logs for your deployed app'\n",
    "    if not name: name = _get_app_name(path)\n",
    "    if tail:\n",
    "        text = ''\n",
    "        while True:\n",
    "            try:\n",
    "                if r := _mk_auth_req(_endpoint(rt=f\"/logs?name={name}&mode={mode}\")):\n",
    "                    print(r.text[len(text):], end='') # Only print updates\n",
    "                    text = r.text\n",
    "                    if mode == 'build' and 'Build End Time:' in r.text: break\n",
    "                    sleep(1)\n",
    "            except KeyboardInterrupt: return \"\\nExiting\"\n",
    "    if r := _mk_auth_req(_endpoint(rt=f\"/logs?name={name}&mode={mode}\")): return r.text"
   ]
  },
  {
   "cell_type": "markdown",
   "id": "390a7b59",
   "metadata": {},
   "source": [
    "CLI usage:"
   ]
  },
  {
   "cell_type": "code",
   "execution_count": null,
   "id": "89253eec",
   "metadata": {},
   "outputs": [
    {
     "name": "stdout",
     "output_type": "stream",
     "text": [
      "usage: plash_logs [-h] [--path PATH] [--name NAME] [--mode {build,app}] [--tail]\n",
      "\n",
      "Prints the logs for your deployed app\n",
      "\n",
      "options:\n",
      "  -h, --help          show this help message and exit\n",
      "  --path PATH         Path to project (default: .)\n",
      "  --name NAME         Overrides the .plash file in project root if provided\n",
      "  --mode {build,app}  Choose between build or app logs (default: build)\n",
      "  --tail              Tail the logs (default: False)\n"
     ]
    }
   ],
   "source": [
    "%%bash\n",
    "plash_logs --help"
   ]
  },
  {
   "cell_type": "code",
   "execution_count": null,
   "id": "b8959fc4",
   "metadata": {},
   "outputs": [],
   "source": [
    "#| hide\n",
    "import tempfile\n",
    "temp_dir = tempfile.TemporaryDirectory()\n",
    "td = Path(temp_dir.name)"
   ]
  },
  {
   "cell_type": "code",
   "execution_count": null,
   "id": "f8441125",
   "metadata": {},
   "outputs": [],
   "source": [
    "#| export\n",
    "@patch\n",
    "def _is_dir_empty(self:Path): return next(self.iterdir(), None) is None"
   ]
  },
  {
   "cell_type": "code",
   "execution_count": null,
   "id": "c18149e1",
   "metadata": {},
   "outputs": [],
   "source": [
    "#| hide\n",
    "test_eq(td.is_dir_empty(), True)\n",
    "(td/'.temp').write_text('Hello, world!')\n",
    "test_eq(d.is_dir_empty(), False)"
   ]
  },
  {
   "cell_type": "code",
   "execution_count": null,
   "id": "e54db8a2",
   "metadata": {},
   "outputs": [],
   "source": [
    "#| hide\n",
    "temp_dir.cleanup()"
   ]
  },
  {
   "cell_type": "code",
   "execution_count": null,
   "id": "047ae74f",
   "metadata": {},
   "outputs": [],
   "source": [
    "#| export\n",
    "@call_parse\n",
    "def download(\n",
    "    path:Path=Path('.'),                 # Path to project\n",
    "    name:str=None,                       # Overrides the .plash file in project root if provided\n",
    "    save_path:Path=Path(\"./download/\")): # Save path (optional)\n",
    "    'Download your deployed app'\n",
    "    if not name: name = _get_app_name(path)\n",
    "    save_path.mkdir(exist_ok=True)\n",
    "    if not save_path._is_dir_empty(): return print(f'ERROR: Save path ({save_path}) is not empty.')\n",
    "    if r := _mk_auth_req(_endpoint(rt=f'/download?name={name}')):\n",
    "        with tarfile.open(fileobj=io.BytesIO(r.content), mode=\"r:gz\") as tar: tar.extractall(path=save_path)\n",
    "        print(f\"Downloaded your app to: {save_path}\")        "
   ]
  },
  {
   "cell_type": "markdown",
   "id": "c095f745",
   "metadata": {},
   "source": [
    "CLI usage:"
   ]
  },
  {
   "cell_type": "code",
   "execution_count": null,
   "id": "024db41a",
   "metadata": {},
   "outputs": [
    {
     "name": "stdout",
     "output_type": "stream",
     "text": [
      "usage: plash_download [-h] [--path PATH] [--name NAME] [--save_path SAVE_PATH]\n",
      "\n",
      "Download your deployed app\n",
      "\n",
      "options:\n",
      "  -h, --help             show this help message and exit\n",
      "  --path PATH            Path to project (default: .)\n",
      "  --name NAME            Overrides the .plash file in project root if provided\n",
      "  --save_path SAVE_PATH  Save path (optional) (default: download)\n"
     ]
    }
   ],
   "source": [
    "%%bash\n",
    "plash_download --help"
   ]
  },
  {
   "cell_type": "code",
   "execution_count": null,
   "id": "3fca3967",
   "metadata": {},
   "outputs": [],
   "source": [
    "#|export\n",
    "@call_parse\n",
    "def apps(verbose:bool=False):\n",
    "    \"List your deployed apps (verbose shows status table: 1=running, 0=stopped)\"\n",
    "    r = _mk_auth_req(_endpoint(rt=\"/user_apps\"))\n",
    "    if r:\n",
    "        apps = r.json()\n",
    "        if not apps: return \"You don't have any deployed Plash apps.\"\n",
    "        if verbose: [print(f\"{a['running']} {a['name']}\") for a in apps]\n",
    "        else: [print(a['name']) for a in apps]"
   ]
  },
  {
   "cell_type": "markdown",
   "id": "fd9bdff7",
   "metadata": {},
   "source": [
    "CLI usage:"
   ]
  },
  {
   "cell_type": "code",
   "execution_count": null,
   "id": "9a0189c8",
   "metadata": {},
   "outputs": [
    {
     "name": "stdout",
     "output_type": "stream",
     "text": [
      "usage: plash_apps [-h] [--verbose]\n",
      "\n",
      "List your deployed apps (verbose shows status table: 1=running, 0=stopped)\n",
      "\n",
      "options:\n",
      "  -h, --help  show this help message and exit\n",
      "  --verbose   (default: False)\n"
     ]
    }
   ],
   "source": [
    "%%bash\n",
    "plash_apps --help"
   ]
  },
  {
   "cell_type": "markdown",
   "id": "3748636e",
   "metadata": {},
   "source": [
    "## Export -"
   ]
  },
  {
   "cell_type": "code",
   "execution_count": null,
   "id": "16744c6e",
   "metadata": {},
   "outputs": [],
   "source": [
    "#|hide\n",
    "#|eval: false\n",
    "from nbdev.doclinks import nbdev_export\n",
    "nbdev_export()"
   ]
  }
 ],
 "metadata": {
  "kernelspec": {
   "display_name": "python3",
   "language": "python",
   "name": "python3"
  }
 },
 "nbformat": 4,
 "nbformat_minor": 5
}
