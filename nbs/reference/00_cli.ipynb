{
 "cells": [
  {
   "cell_type": "markdown",
   "id": "97776099",
   "metadata": {},
   "source": [
    "# CLI Reference\n",
    "\n",
    "> An overview of the Plash CLI commands"
   ]
  },
  {
   "cell_type": "code",
   "execution_count": 1,
   "id": "89996de5",
   "metadata": {},
   "outputs": [],
   "source": [
    "#| hide\n",
    "from plash_cli._bash_magic import *"
   ]
  },
  {
   "cell_type": "markdown",
   "id": "897236fc",
   "metadata": {},
   "source": [
    "## plash_login"
   ]
  },
  {
   "cell_type": "code",
   "execution_count": 2,
   "id": "1267196a",
   "metadata": {},
   "outputs": [
    {
     "name": "stdout",
     "output_type": "stream",
     "text": [
      "usage: plash_login [-h]\n",
      "\n",
      "Authenticate CLI with server and save config\n",
      "\n",
      "options:\n",
      "  -h, --help  show this help message and exit\n",
      "\n"
     ]
    }
   ],
   "source": [
    "%%bash\n",
    "plash_login --help"
   ]
  },
  {
   "cell_type": "markdown",
   "id": "0fed0889",
   "metadata": {},
   "source": [
    "## plash_deploy"
   ]
  },
  {
   "cell_type": "code",
   "execution_count": 3,
   "id": "5b50aa51",
   "metadata": {},
   "outputs": [
    {
     "name": "stdout",
     "output_type": "stream",
     "text": [
      "usage: plash_deploy [-h] [--path PATH] [--app_id APP_ID]\n",
      "\n",
      "Ship your app to production\n",
      "\n",
      "options:\n",
      "  -h, --help       show this help message and exit\n",
      "  --path PATH      Path to project (default: .)\n",
      "  --app_id APP_ID  App ID that will be used as the subdomain in plash\n",
      "\n"
     ]
    }
   ],
   "source": [
    "%%bash\n",
    "plash_deploy --help"
   ]
  },
  {
   "cell_type": "markdown",
   "id": "ddd7b14f",
   "metadata": {},
   "source": [
    "## plash_view"
   ]
  },
  {
   "cell_type": "code",
   "execution_count": 4,
   "id": "7d9e7e13",
   "metadata": {},
   "outputs": [
    {
     "name": "stdout",
     "output_type": "stream",
     "text": [
      "usage: plash_view [-h] [--path PATH]\n",
      "\n",
      "Open your app in the browser\n",
      "\n",
      "options:\n",
      "  -h, --help   show this help message and exit\n",
      "  --path PATH  Path to project (default: .)\n",
      "\n"
     ]
    }
   ],
   "source": [
    "%%bash\n",
    "plash_view --help"
   ]
  },
  {
   "cell_type": "markdown",
   "id": "9b9395d8",
   "metadata": {},
   "source": [
    "## plash_start"
   ]
  },
  {
   "cell_type": "code",
   "execution_count": 5,
   "id": "38fc6718",
   "metadata": {},
   "outputs": [
    {
     "name": "stdout",
     "output_type": "stream",
     "text": [
      "usage: plash_start [-h] [--path PATH]\n",
      "\n",
      "options:\n",
      "  -h, --help   show this help message and exit\n",
      "  --path PATH  Path to project (default: .)\n",
      "\n"
     ]
    }
   ],
   "source": [
    "%%bash\n",
    "plash_start --help"
   ]
  },
  {
   "cell_type": "markdown",
   "id": "249700ef",
   "metadata": {},
   "source": [
    "## plash_stop"
   ]
  },
  {
   "cell_type": "code",
   "execution_count": 6,
   "id": "0614451f",
   "metadata": {},
   "outputs": [
    {
     "name": "stdout",
     "output_type": "stream",
     "text": [
      "usage: plash_stop [-h] [--path PATH]\n",
      "\n",
      "options:\n",
      "  -h, --help   show this help message and exit\n",
      "  --path PATH  Path to project (default: .)\n",
      "\n"
     ]
    }
   ],
   "source": [
    "%%bash\n",
    "plash_stop --help"
   ]
  },
  {
   "cell_type": "markdown",
   "id": "b790500f",
   "metadata": {},
   "source": [
    "## plash_logs"
   ]
  },
  {
   "cell_type": "code",
   "execution_count": 7,
   "id": "fc8cc9a7",
   "metadata": {},
   "outputs": [
    {
     "name": "stdout",
     "output_type": "stream",
     "text": [
      "usage: plash_logs [-h] [--path PATH] [--mode {build,app}] [--tail]\n",
      "\n",
      "Prints the logs for your deployed app\n",
      "\n",
      "options:\n",
      "  -h, --help          show this help message and exit\n",
      "  --path PATH         Path to project (default: .)\n",
      "  --mode {build,app}  Choose between build or app logs (default: build)\n",
      "  --tail              Tail the logs (default: False)\n",
      "\n"
     ]
    }
   ],
   "source": [
    "%%bash\n",
    "plash_logs --help"
   ]
  },
  {
   "cell_type": "markdown",
   "id": "ad406d88",
   "metadata": {},
   "source": [
    "## plash_download"
   ]
  },
  {
   "cell_type": "code",
   "execution_count": 8,
   "id": "dfed47f7",
   "metadata": {},
   "outputs": [
    {
     "name": "stdout",
     "output_type": "stream",
     "text": [
      "usage: plash_download [-h] [--path PATH] [--save_path SAVE_PATH]\n",
      "\n",
      "Download your deployed app.\n",
      "\n",
      "options:\n",
      "  -h, --help             show this help message and exit\n",
      "  --path PATH            Path to project (default: .)\n",
      "  --save_path SAVE_PATH  Save path (optional) (default: download)\n",
      "\n"
     ]
    }
   ],
   "source": [
    "%%bash\n",
    "plash_download --help"
   ]
  },
  {
   "cell_type": "markdown",
   "id": "486c9780",
   "metadata": {},
   "source": [
    "## plash_delete"
   ]
  },
  {
   "cell_type": "code",
   "execution_count": 9,
   "id": "0c3663fa",
   "metadata": {},
   "outputs": [
    {
     "name": "stdout",
     "output_type": "stream",
     "text": [
      "usage: plash_delete [-h] [--path PATH] [--force]\n",
      "\n",
      "Delete your deployed app\n",
      "\n",
      "options:\n",
      "  -h, --help   show this help message and exit\n",
      "  --path PATH  Path to project (default: .)\n",
      "  --force      Skip confirmation prompt (default: False)\n",
      "\n"
     ]
    }
   ],
   "source": [
    "%%bash\n",
    "plash_delete --help"
   ]
  }
 ],
 "metadata": {
  "kernelspec": {
   "display_name": ".venv",
   "language": "python",
   "name": "python3"
  },
  "language_info": {
   "codemirror_mode": {
    "name": "ipython",
    "version": 3
   },
   "file_extension": ".py",
   "mimetype": "text/x-python",
   "name": "python",
   "nbconvert_exporter": "python",
   "pygments_lexer": "ipython3",
   "version": "3.12.6"
  }
 },
 "nbformat": 4,
 "nbformat_minor": 5
}
