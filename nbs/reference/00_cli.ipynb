{
 "cells": [
  {
   "cell_type": "markdown",
   "id": "97776099",
   "metadata": {},
   "source": [
    "# CLI Reference\n",
    "\n",
    "> An overview of the Plash CLI commands"
   ]
  },
  {
   "cell_type": "markdown",
   "id": "897236fc",
   "metadata": {},
   "source": [
    "## plash_login"
   ]
  },
  {
   "cell_type": "code",
   "execution_count": null,
   "id": "1267196a",
   "metadata": {},
   "outputs": [
    {
     "name": "stdout",
     "output_type": "stream",
     "text": [
      "usage: plash_login [-h]\n",
      "\n",
      "Authenticate CLI with server and save config\n",
      "\n",
      "options:\n",
      "  -h, --help  show this help message and exit\n"
     ]
    }
   ],
   "source": [
    "%%bash\n",
    "plash_login --help"
   ]
  },
  {
   "cell_type": "markdown",
   "id": "d68f6131",
   "metadata": {},
   "source": [
    "## plash_apps"
   ]
  },
  {
   "cell_type": "code",
   "execution_count": null,
   "id": "a27502f9",
   "metadata": {},
   "outputs": [
    {
     "name": "stdout",
     "output_type": "stream",
     "text": [
      "usage: plash_apps [-h] [--verbose]\n",
      "\n",
      "List your deployed apps (verbose shows status table: 1=running, 0=stopped)\n",
      "\n",
      "options:\n",
      "  -h, --help  show this help message and exit\n",
      "  --verbose   (default: False)\n"
     ]
    }
   ],
   "source": [
    "%%bash\n",
    "plash_apps --help"
   ]
  },
  {
   "cell_type": "markdown",
   "id": "0fed0889",
   "metadata": {},
   "source": [
    "## plash_deploy"
   ]
  },
  {
   "cell_type": "code",
   "execution_count": null,
   "id": "5b50aa51",
   "metadata": {},
   "outputs": [
    {
     "name": "stdout",
     "output_type": "stream",
     "text": [
      "usage: plash_deploy [-h] [--path PATH] [--name NAME] [--force_data]\n",
      "\n",
      "Deploy app to production, ignores paths starting with '.', excludes data/ directory by default unless --force_data is\n",
      "used.\n",
      "\n",
      "options:\n",
      "  -h, --help    show this help message and exit\n",
      "  --path PATH   Path to project (default: .)\n",
      "  --name NAME   Overrides the .plash file in project root if provided\n",
      "  --force_data  Overwrite data/ directory during deployment (default: False)\n"
     ]
    }
   ],
   "source": [
    "%%bash\n",
    "plash_deploy --help"
   ]
  },
  {
   "cell_type": "markdown",
   "id": "c9429698",
   "metadata": {},
   "source": [
    "::: {.callout-warning title=\"Use --force_data carefully\"}\n",
    "The `--force_data` flag will completely replace your production data. Always backup before using on production applications.\n",
    ":::"
   ]
  },
  {
   "cell_type": "markdown",
   "id": "ddd7b14f",
   "metadata": {},
   "source": [
    "## plash_view"
   ]
  },
  {
   "cell_type": "code",
   "execution_count": null,
   "id": "7d9e7e13",
   "metadata": {},
   "outputs": [
    {
     "name": "stdout",
     "output_type": "stream",
     "text": [
      "usage: plash_view [-h] [--path PATH] [--name NAME]\n",
      "\n",
      "Open your app in the browser\n",
      "\n",
      "options:\n",
      "  -h, --help   show this help message and exit\n",
      "  --path PATH  Path to project directory (default: .)\n",
      "  --name NAME  Overrides the .plash file in project root if provided\n"
     ]
    }
   ],
   "source": [
    "%%bash\n",
    "plash_view --help"
   ]
  },
  {
   "cell_type": "markdown",
   "id": "9b9395d8",
   "metadata": {},
   "source": [
    "## plash_start"
   ]
  },
  {
   "cell_type": "code",
   "execution_count": null,
   "id": "38fc6718",
   "metadata": {},
   "outputs": [
    {
     "name": "stdout",
     "output_type": "stream",
     "text": [
      "usage: plash_start [-h] [--path PATH] [--name NAME]\n",
      "\n",
      "Access the '/start' endpoint for your app\n",
      "\n",
      "options:\n",
      "  -h, --help   show this help message and exit\n",
      "  --path PATH  Path to project (default: .)\n",
      "  --name NAME  Overrides the .plash file in project root if provided\n"
     ]
    }
   ],
   "source": [
    "%%bash\n",
    "plash_start --help"
   ]
  },
  {
   "cell_type": "markdown",
   "id": "249700ef",
   "metadata": {},
   "source": [
    "## plash_stop"
   ]
  },
  {
   "cell_type": "code",
   "execution_count": null,
   "id": "0614451f",
   "metadata": {},
   "outputs": [
    {
     "name": "stdout",
     "output_type": "stream",
     "text": [
      "usage: plash_stop [-h] [--path PATH] [--name NAME]\n",
      "\n",
      "Access the '/stop' endpoint for your app\n",
      "\n",
      "options:\n",
      "  -h, --help   show this help message and exit\n",
      "  --path PATH  Path to project (default: .)\n",
      "  --name NAME  Overrides the .plash file in project root if provided\n"
     ]
    }
   ],
   "source": [
    "%%bash\n",
    "plash_stop --help"
   ]
  },
  {
   "cell_type": "markdown",
   "id": "b790500f",
   "metadata": {},
   "source": [
    "## plash_logs"
   ]
  },
  {
   "cell_type": "code",
   "execution_count": null,
   "id": "fc8cc9a7",
   "metadata": {},
   "outputs": [
    {
     "name": "stdout",
     "output_type": "stream",
     "text": [
      "usage: plash_logs [-h] [--path PATH] [--name NAME] [--mode {build,app}] [--tail]\n",
      "\n",
      "Prints the logs for your deployed app\n",
      "\n",
      "options:\n",
      "  -h, --help          show this help message and exit\n",
      "  --path PATH         Path to project (default: .)\n",
      "  --name NAME         Overrides the .plash file in project root if provided\n",
      "  --mode {build,app}  Choose between build or app logs (default: build)\n",
      "  --tail              Tail the logs (default: False)\n"
     ]
    }
   ],
   "source": [
    "%%bash\n",
    "plash_logs --help"
   ]
  },
  {
   "cell_type": "markdown",
   "id": "ad406d88",
   "metadata": {},
   "source": [
    "## plash_download"
   ]
  },
  {
   "cell_type": "code",
   "execution_count": null,
   "id": "dfed47f7",
   "metadata": {},
   "outputs": [
    {
     "name": "stdout",
     "output_type": "stream",
     "text": [
      "usage: plash_download [-h] [--path PATH] [--name NAME] [--save_path SAVE_PATH]\n",
      "\n",
      "Download your deployed app\n",
      "\n",
      "options:\n",
      "  -h, --help             show this help message and exit\n",
      "  --path PATH            Path to project (default: .)\n",
      "  --name NAME            Overrides the .plash file in project root if provided\n",
      "  --save_path SAVE_PATH  Save path (optional) (default: download)\n"
     ]
    }
   ],
   "source": [
    "%%bash\n",
    "plash_download --help"
   ]
  },
  {
   "cell_type": "markdown",
   "id": "486c9780",
   "metadata": {},
   "source": [
    "## plash_delete"
   ]
  },
  {
   "cell_type": "code",
   "execution_count": null,
   "id": "0c3663fa",
   "metadata": {},
   "outputs": [
    {
     "name": "stdout",
     "output_type": "stream",
     "text": [
      "usage: plash_delete [-h] [--path PATH] [--name NAME] [--force]\n",
      "\n",
      "Delete your deployed app\n",
      "\n",
      "options:\n",
      "  -h, --help   show this help message and exit\n",
      "  --path PATH  Path to project (default: .)\n",
      "  --name NAME  Overrides the .plash file in project root if provided\n",
      "  --force      Skip confirmation prompt (default: False)\n"
     ]
    }
   ],
   "source": [
    "%%bash\n",
    "plash_delete --help"
   ]
  }
 ],
 "metadata": {
  "kernelspec": {
   "display_name": "python3",
   "language": "python",
   "name": "python3"
  }
 },
 "nbformat": 4,
 "nbformat_minor": 5
}
