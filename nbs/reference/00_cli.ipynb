{
 "cells": [
  {
   "cell_type": "markdown",
   "id": "97776099",
   "metadata": {},
   "source": [
    "# CLI Reference\n",
    "\n",
    "> An overview of the Plash CLI commands"
   ]
  },
  {
   "cell_type": "code",
   "execution_count": null,
   "id": "89996de5",
   "metadata": {},
   "outputs": [],
   "source": [
    "#| hide\n",
    "from plash_cli._bash_magic import *"
   ]
  },
  {
   "cell_type": "markdown",
   "id": "897236fc",
   "metadata": {},
   "source": [
    "## plash_login"
   ]
  },
  {
   "cell_type": "code",
   "execution_count": null,
   "id": "1267196a",
   "metadata": {},
   "outputs": [
    {
     "name": "stdout",
     "output_type": "stream",
     "text": [
      "usage: plash_login [-h]\r\n",
      "\r\n",
      "Authenticate CLI with server and save config\r\n",
      "\r\n",
      "options:\r\n",
      "  -h, --help  show this help message and exit\r\n",
      "\n"
     ]
    }
   ],
   "source": [
    "%%bash\n",
    "plash_login --help"
   ]
  },
  {
   "cell_type": "markdown",
   "id": "0fed0889",
   "metadata": {},
   "source": [
    "## plash_deploy"
   ]
  },
  {
   "cell_type": "code",
   "execution_count": null,
   "id": "5b50aa51",
   "metadata": {},
   "outputs": [
    {
     "name": "stdout",
     "output_type": "stream",
     "text": [
      "usage: plash_deploy [-h] [--path PATH] [--app_id APP_ID]\r\n",
      "\r\n",
      "🚀 Ship your app to production\r\n",
      "\r\n",
      "options:\r\n",
      "  -h, --help       show this help message and exit\r\n",
      "  --path PATH      Path to project (default: .)\r\n",
      "  --app_id APP_ID  App ID that will be used as the subdomain in plash\r\n",
      "\n"
     ]
    }
   ],
   "source": [
    "%%bash\n",
    "plash_deploy --help"
   ]
  },
  {
   "cell_type": "markdown",
   "id": "ddd7b14f",
   "metadata": {},
   "source": [
    "## plash_view"
   ]
  },
  {
   "cell_type": "code",
   "execution_count": null,
   "id": "7d9e7e13",
   "metadata": {},
   "outputs": [
    {
     "name": "stdout",
     "output_type": "stream",
     "text": [
      "usage: plash_view [-h] [--path PATH]\r\n",
      "\r\n",
      "options:\r\n",
      "  -h, --help   show this help message and exit\r\n",
      "  --path PATH  Path to project (default: .)\r\n",
      "\n"
     ]
    }
   ],
   "source": [
    "%%bash\n",
    "plash_view --help"
   ]
  },
  {
   "cell_type": "markdown",
   "id": "9b9395d8",
   "metadata": {},
   "source": [
    "## plash_start"
   ]
  },
  {
   "cell_type": "code",
   "execution_count": null,
   "id": "38fc6718",
   "metadata": {},
   "outputs": [
    {
     "name": "stdout",
     "output_type": "stream",
     "text": [
      "usage: plash_start [-h] [--path PATH]\r\n",
      "\r\n",
      "options:\r\n",
      "  -h, --help   show this help message and exit\r\n",
      "  --path PATH  Path to project (default: .)\r\n",
      "\n"
     ]
    }
   ],
   "source": [
    "%%bash\n",
    "plash_start --help"
   ]
  },
  {
   "cell_type": "markdown",
   "id": "249700ef",
   "metadata": {},
   "source": [
    "## plash_stop"
   ]
  },
  {
   "cell_type": "code",
   "execution_count": null,
   "id": "0614451f",
   "metadata": {},
   "outputs": [
    {
     "name": "stdout",
     "output_type": "stream",
     "text": [
      "usage: plash_stop [-h] [--path PATH]\r\n",
      "\r\n",
      "options:\r\n",
      "  -h, --help   show this help message and exit\r\n",
      "  --path PATH  Path to project (default: .)\r\n",
      "\n"
     ]
    }
   ],
   "source": [
    "%%bash\n",
    "plash_stop --help"
   ]
  },
  {
   "cell_type": "markdown",
   "id": "b790500f",
   "metadata": {},
   "source": [
    "## plash_logs"
   ]
  },
  {
   "cell_type": "code",
   "execution_count": null,
   "id": "fc8cc9a7",
   "metadata": {},
   "outputs": [
    {
     "name": "stdout",
     "output_type": "stream",
     "text": [
      "usage: plash_logs [-h] [--path PATH] [--mode {build,app}] [--tail]\r\n",
      "\r\n",
      "Prints the logs for your deployed app\r\n",
      "\r\n",
      "options:\r\n",
      "  -h, --help          show this help message and exit\r\n",
      "  --path PATH         Path to project (default: .)\r\n",
      "  --mode {build,app}  Choose between build or app logs (default: build)\r\n",
      "  --tail              Tail the logs (default: False)\r\n",
      "\n"
     ]
    }
   ],
   "source": [
    "%%bash\n",
    "plash_logs --help"
   ]
  },
  {
   "cell_type": "markdown",
   "id": "ad406d88",
   "metadata": {},
   "source": [
    "## plash_download"
   ]
  },
  {
   "cell_type": "code",
   "execution_count": null,
   "id": "dfed47f7",
   "metadata": {},
   "outputs": [
    {
     "name": "stdout",
     "output_type": "stream",
     "text": [
      "usage: plash_download [-h] [--path PATH] [--save_path SAVE_PATH]\r\n",
      "\r\n",
      "Download your deployed app.\r\n",
      "\r\n",
      "options:\r\n",
      "  -h, --help             show this help message and exit\r\n",
      "  --path PATH            Path to project (default: .)\r\n",
      "  --save_path SAVE_PATH  Save path (optional) (default: download)\r\n",
      "\n"
     ]
    }
   ],
   "source": [
    "%%bash\n",
    "plash_download --help"
   ]
  },
  {
   "cell_type": "markdown",
   "id": "486c9780",
   "metadata": {},
   "source": [
    "## plash_delete"
   ]
  },
  {
   "cell_type": "code",
   "execution_count": null,
   "id": "0c3663fa",
   "metadata": {},
   "outputs": [
    {
     "name": "stdout",
     "output_type": "stream",
     "text": [
      "usage: plash_delete [-h] [--path PATH] [--force]\r\n",
      "\r\n",
      "Delete your deployed app\r\n",
      "\r\n",
      "options:\r\n",
      "  -h, --help   show this help message and exit\r\n",
      "  --path PATH  Path to project (default: .)\r\n",
      "  --force      Skip confirmation prompt (default: False)\r\n",
      "\n"
     ]
    }
   ],
   "source": [
    "%%bash\n",
    "plash_delete --help"
   ]
  }
 ],
 "metadata": {
  "kernelspec": {
   "display_name": "python3",
   "language": "python",
   "name": "python3"
  }
 },
 "nbformat": 4,
 "nbformat_minor": 5
}
