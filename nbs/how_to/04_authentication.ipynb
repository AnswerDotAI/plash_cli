{
 "cells": [
  {
   "cell_type": "markdown",
   "metadata": {},
   "source": [
    "# Authentication\n",
    "\n",
    "> The easiest way to add Google OAuth authentication to your Plash apps"
   ]
  },
  {
   "cell_type": "markdown",
   "metadata": {},
   "source": [
    "::: {.callout-note}\n",
    "TODO:\n",
    "More explanation on the T&C's between plash<->devs<->users<->plash\n",
    ":::"
   ]
  },
  {
   "cell_type": "markdown",
   "metadata": {},
   "source": [
    "## Why Use Plash Auth?\n",
    "\n",
    "Setting up Google OAuth authentication traditionally requires:\n",
    "- Google Cloud Console project setup and OAuth consent screen configuration\n",
    "- Secure credential management and rotation in production\n",
    "- Managing redirect URLs across development, staging, and production environments\n",
    "- Complex local testing workarounds (OAuth typically breaks without HTTPS and registered domains)\n",
    "\n",
    "**Plash Auth eliminates this complexity** by providing a simple wrapper around the OAuth flow. We handle all the Google Cloud setup, credential management, and redirect configuration for you."
   ]
  },
  {
   "cell_type": "markdown",
   "metadata": {},
   "source": [
    "## How It Works\n",
    "\n",
    "Plash provides a streamlined OAuth flow:\n",
    "\n",
    "1. Your app requests a sign-in URL from Plash\n",
    "2. User authenticates with Google through our secure flow\n",
    "3. Plash redirects back to your app with a signed JWT containing the user's Google ID\n",
    "4. Your app verifies the JWT for authentication\n",
    "\n",
    "The system automatically adapts to your environment—real OAuth in production, mock auth for local development and testing.\n",
    "\n",
    "::: {.callout-tip}\n",
    "**Trade-offs:** Plash Auth provides the user's globally unique Google ID for authentication. If you need access to user data (name, email) or Google services (Drive, Gmail), you'll need to implement your own OAuth flow ([FastHTML OAuth documentation](https://www.fastht.ml/docs/explains/oauth.html)).\n",
    ":::\n",
    "\n",
    "\n",
    "For most applications that just need secure user authentication, Plash Auth is the simplest solution."
   ]
  },
  {
   "cell_type": "markdown",
   "metadata": {},
   "source": [
    "## Tutorial Setup"
   ]
  },
  {
   "cell_type": "markdown",
   "metadata": {},
   "source": [
    "This tutorial will show you how to add Google OAuth authentication to your FastHTML apps deployed on Plash. With Plash's built-in auth system, you can easily implement secure sign-in functionality without managing OAuth secrets or redirect URLs yourself.\n",
    "\n",
    "**Prerequisites:**\n",
    "\n",
    "* A registered account at [https://pla.sh](https://pla.sh)\n",
    "* Basic FastHTML knowledge\n",
    "* Completed the [basic tutorial](../index.qmd) for deploying your first app"
   ]
  },
  {
   "cell_type": "markdown",
   "metadata": {},
   "source": [
    "In this tutorial we'll focus on FastHTML. But any Plash app can technically make use of Plash Auth."
   ]
  },
  {
   "cell_type": "code",
   "execution_count": null,
   "metadata": {},
   "outputs": [],
   "source": [
    "#| hide\n",
    "from plash_cli._bash_magic import *"
   ]
  },
  {
   "cell_type": "code",
   "execution_count": null,
   "metadata": {},
   "outputs": [],
   "source": [
    "#| hide\n",
    "import tempfile\n",
    "temp_dir = tempfile.TemporaryDirectory()\n",
    "td = temp_dir.name"
   ]
  },
  {
   "cell_type": "code",
   "execution_count": null,
   "metadata": {},
   "outputs": [
    {
     "name": "stdout",
     "output_type": "stream",
     "text": [
      "\n"
     ]
    }
   ],
   "source": [
    "%%bash\n",
    "#| hide\n",
    "cd $`td`"
   ]
  },
  {
   "cell_type": "markdown",
   "metadata": {},
   "source": [
    "## 1. Create Your Auth App\n",
    "\n",
    "Let's create a new directory for our auth example:"
   ]
  },
  {
   "cell_type": "code",
   "execution_count": null,
   "metadata": {},
   "outputs": [
    {
     "name": "stdout",
     "output_type": "stream",
     "text": [
      "\n"
     ]
    }
   ],
   "source": [
    "%%bash\n",
    "mkdir -p plash-auth-tutorial\n",
    "cd plash-auth-tutorial"
   ]
  },
  {
   "cell_type": "markdown",
   "metadata": {},
   "source": [
    "## 2. Create the Main Application\n",
    "\n",
    "Create your `main.py` file with the auth functionality:"
   ]
  },
  {
   "cell_type": "code",
   "execution_count": null,
   "metadata": {},
   "outputs": [],
   "source": [
    "%%writefile main.py\n",
    "import os\n",
    "\n",
    "# Check environment variable\n",
    "plash_production = os.getenv('PLASH_PRODUCTION')\n",
    "\n",
    "if plash_production: \n",
    "    from plash_cli.auth import make_plash_signin_url, goog_id_from_signin_reply, APP_SIGNIN_PATH\n",
    "else: \n",
    "    from plash_cli.auth_mock import make_plash_signin_url, goog_id_from_signin_reply, APP_SIGNIN_PATH\n",
    "\n",
    "from fasthtml.common import *\n",
    "\n",
    "app, rt = fast_app()\n",
    "\n",
    "@rt\n",
    "def index(session): \n",
    "    user_id = session.get('user_id')\n",
    "    if user_id:\n",
    "        return Div(\n",
    "            H1(\"Welcome to My Plash App!\"),\n",
    "            P(f\"You are logged in as user: {user_id}\"),\n",
    "            A(\"Protected Page\", href=\"/protected\"),\n",
    "            Br(), Br(),\n",
    "            A(\"Logout\", href=\"/logout\")\n",
    "        )\n",
    "    else:\n",
    "        return Div(\n",
    "            H1(\"Welcome to My Plash App!\"),\n",
    "            P(\"Please sign in to access the app.\"),\n",
    "            A(\"Sign in with Google\", href=make_plash_signin_url(session))\n",
    "        )\n",
    "\n",
    "@rt('/protected')\n",
    "def protected_page(session):\n",
    "    user_id = session.get('user_id')\n",
    "    if not user_id:\n",
    "        return RedirectResponse('/', status_code=303)\n",
    "    \n",
    "    return Div(\n",
    "        H1(\"Protected Page\"),\n",
    "        P(f\"This page is only accessible to authenticated users.\"),\n",
    "        P(f\"Your user ID: {user_id}\"),\n",
    "        A(\"Back to Home\", href=\"/\")\n",
    "    )\n",
    "\n",
    "@rt('/logout')\n",
    "def logout(session):\n",
    "    session.pop('user_id', None)\n",
    "    return RedirectResponse('/', status_code=303)\n",
    "\n",
    "@rt(APP_SIGNIN_PATH)\n",
    "def plash_signin_completed(session, signin_reply: str):\n",
    "    uid = goog_id_from_signin_reply(session, signin_reply)\n",
    "    if uid is None:\n",
    "        return Div(\n",
    "            H2(\"Login Failed\"),\n",
    "            P(\"There was an error signing you in. Please try again.\"),\n",
    "            A(\"Try Again\", href=\"/\")\n",
    "        )\n",
    "    else:\n",
    "        session['user_id'] = uid\n",
    "        return RedirectResponse('/', status_code=303)\n",
    "\n",
    "serve()"
   ]
  },
  {
   "cell_type": "markdown",
   "metadata": {},
   "source": [
    "## 3. Add Required Dependencies\n",
    "\n",
    "Create your `requirements.txt` file with the necessary packages:"
   ]
  },
  {
   "cell_type": "code",
   "execution_count": null,
   "metadata": {},
   "outputs": [],
   "source": [
    "%%writefile requirements.txt\n",
    "python-fasthtml\n",
    "fastcore\n",
    "httpx>=0.28.1\n",
    "git+https://github.com/AnswerDotAI/plash_cli.git@feat-add-oauth"
   ]
  },
  {
   "cell_type": "markdown",
   "metadata": {},
   "source": [
    "::: {.callout-note}\n",
    "We're using the `feat-add-oauth` branch of plash_cli which contains the latest auth functionality. Once this feature is merged, you can use the main branch.\n",
    ":::"
   ]
  },
  {
   "cell_type": "markdown",
   "metadata": {},
   "source": [
    "## 4. Understanding the Code\n",
    "\n",
    "Let's break down the key components of our auth app:\n",
    "\n",
    "### Environment Detection\n",
    "```python\n",
    "plash_production = os.getenv('PLASH_PRODUCTION')\n",
    "```\n",
    "\n",
    "Plash automatically sets the `PLASH_PRODUCTION` environment variable when your app runs in production. This allows your app to use real OAuth in production and mock auth for local testing.\n",
    "\n",
    "### Key Functions\n",
    "\n",
    "- **`make_plash_signin_url(session)`**: Generates a sign-in URL that starts the OAuth flow\n",
    "- **`goog_id_from_signin_reply(session, signin_reply)`**: Verifies the OAuth response and returns the user's Google ID\n",
    "- **`APP_SIGNIN_PATH`**: The path (`/signin_completed`) where Plash redirects after authentication\n",
    "\n",
    "### Session Management\n",
    "\n",
    "The app stores the user ID in the session after successful authentication:\n",
    "```python\n",
    "session['user_id'] = uid\n",
    "```\n",
    "\n",
    "### Protected Routes\n",
    "\n",
    "To let only logged-in users access a given route, you can check if the `user_id` is set in the session.\n",
    "\n",
    "```python\n",
    "@rt('/protected')\n",
    "def protected_page(session):\n",
    "    # Only accessible to logged-in users\n",
    "    if not session.get('user_id'): return RedirectResponse('/', status_code=303)\n",
    "```"
   ]
  },
  {
   "cell_type": "markdown",
   "metadata": {},
   "source": [
    "## 5. Deploy Your Auth App\n",
    "\n",
    "Now let's deploy the app to see authentication in action:"
   ]
  },
  {
   "cell_type": "code",
   "execution_count": null,
   "metadata": {},
   "outputs": [],
   "source": [
    "%%writefile .plash\n",
    "#| hide\n",
    "export PLASH_APP_NAME='auth-tutorial-example'"
   ]
  },
  {
   "cell_type": "code",
   "execution_count": null,
   "metadata": {},
   "outputs": [
    {
     "name": "stdout",
     "output_type": "stream",
     "text": [
      "Initializing deployment...\r\n",
      "✅ Upload complete! Your app is currently being built.\r\n",
      "It will be live at https://auth-tutorial-example.pla.sh\r\n",
      "\n"
     ]
    }
   ],
   "source": [
    "%%bash\n",
    "plash_deploy"
   ]
  },
  {
   "cell_type": "markdown",
   "metadata": {},
   "source": [
    "## 6. Test Your Auth App\n",
    "\n",
    "Visit your deployed app and test the authentication flow:"
   ]
  },
  {
   "cell_type": "code",
   "execution_count": null,
   "metadata": {},
   "outputs": [
    {
     "name": "stdout",
     "output_type": "stream",
     "text": [
      "Opening browser to view app :\r\n",
      "https://auth-tutorial-example.pla.sh\r\n",
      "\r\n",
      "\n"
     ]
    }
   ],
   "source": [
    "%%bash\n",
    "plash_view"
   ]
  },
  {
   "cell_type": "markdown",
   "metadata": {},
   "source": [
    "You should see:\n",
    "\n",
    "1. A welcome page with a \"Sign in with Google\" link\n",
    "2. When clicked, you'll be redirected to Google's OAuth consent screen  \n",
    "3. After granting permission, you'll be redirected back to your app\n",
    "4. Now logged in, you can access the protected page and logout functionality"
   ]
  },
  {
   "cell_type": "markdown",
   "metadata": {},
   "source": [
    "## Troubleshooting\n",
    "\n",
    "### Common Issues\n",
    "\n",
    "**\"Invalid request\" error during OAuth**\n",
    "- Make sure your app is deployed and accessible at the URL Plash expects\n",
    "- Check that your requirements.txt includes the correct plash_cli version\n",
    "\n",
    "**Mock auth not working locally**\n",
    "- Ensure `PLASH_PRODUCTION` environment variable is not set when testing locally\n",
    "- Verify you're importing from `plash_cli.auth_mock` in development mode\n",
    "\n",
    "**Session not persisting**\n",
    "- Make sure you're using FastHTML's session management correctly\n",
    "- Check that cookies are enabled in your browser"
   ]
  },
  {
   "cell_type": "code",
   "execution_count": null,
   "metadata": {},
   "outputs": [],
   "source": [
    "#| hide\n",
    "temp_dir.cleanup()"
   ]
  }
 ],
 "metadata": {
  "kernelspec": {
   "display_name": "python3",
   "language": "python",
   "name": "python3"
  }
 },
 "nbformat": 4,
 "nbformat_minor": 4
}
