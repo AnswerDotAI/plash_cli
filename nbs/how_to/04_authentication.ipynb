{
 "cells": [
  {
   "cell_type": "markdown",
   "metadata": {},
   "source": [
    "# Authentication\n",
    "\n",
    "> Learn how to add Google OAuth authentication to your Plash apps"
   ]
  },
  {
   "cell_type": "markdown",
   "metadata": {},
   "source": [
    "::: {.callout-note}\n",
    "These docs are work in progress we'll definitely need to add:\n",
    "\n",
    "1. Why plash auth is useful\n",
    "2. More explanation on the T&C's between plash<->devs<->users<->plash\n",
    "3. When devs might want to move to GCloud themselves w our fasthtml examples.\n",
    ":::"
   ]
  },
  {
   "cell_type": "markdown",
   "metadata": {},
   "source": [
    "This tutorial will show you how to add Google OAuth authentication to your FastHTML apps deployed on Plash. With Plash's built-in auth system, you can easily implement secure sign-in functionality without managing OAuth secrets or redirect URLs yourself.\n",
    "\n",
    "**Prerequisites:**\n",
    "\n",
    "* A registered account at [https://pla.sh](https://pla.sh)\n",
    "* Basic FastHTML knowledge\n",
    "* Completed the [basic tutorial](../index.qmd) for deploying your first app"
   ]
  },
  {
   "cell_type": "markdown",
   "metadata": {},
   "source": [
    "## How Plash Auth Works\n",
    "\n",
    "Plash provides a simplified OAuth flow that handles all the complexity for you:\n",
    "\n",
    "1. **Your app** requests a sign-in URL from Plash\n",
    "2. **User** clicks the sign-in link and authenticates with Google\n",
    "3. **Plash** handles the OAuth flow and redirects back to your app with a signed JWT\n",
    "4. **Your app** verifies the JWT and gets the user's Google ID\n",
    "\n",
    "The best part? It automatically works in both production (real OAuth) and development (mock auth for testing)."
   ]
  },
  {
   "cell_type": "markdown",
   "metadata": {},
   "source": [
    "## Tutorial Setup"
   ]
  },
  {
   "cell_type": "code",
   "execution_count": null,
   "metadata": {},
   "outputs": [],
   "source": [
    "#| hide\n",
    "from plash_cli._bash_magic import *"
   ]
  },
  {
   "cell_type": "code",
   "execution_count": null,
   "metadata": {},
   "outputs": [],
   "source": [
    "#| hide\n",
    "import tempfile\n",
    "temp_dir = tempfile.TemporaryDirectory()\n",
    "td = temp_dir.name"
   ]
  },
  {
   "cell_type": "code",
   "execution_count": null,
   "metadata": {},
   "outputs": [],
   "source": [
    "%%bash\n",
    "#| hide\n",
    "cd $`td`"
   ]
  },
  {
   "cell_type": "markdown",
   "metadata": {},
   "source": [
    "## 1. Create Your Auth App\n",
    "\n",
    "Let's create a new directory for our auth example:"
   ]
  },
  {
   "cell_type": "code",
   "execution_count": null,
   "metadata": {},
   "outputs": [],
   "source": [
    "%%bash\n",
    "mkdir -p plash-auth-tutorial\n",
    "cd plash-auth-tutorial"
   ]
  },
  {
   "cell_type": "markdown",
   "metadata": {},
   "source": [
    "## 2. Create the Main Application\n",
    "\n",
    "Create your `main.py` file with the auth functionality:"
   ]
  },
  {
   "cell_type": "code",
   "execution_count": null,
   "metadata": {},
   "outputs": [],
   "source": [
    "%%writefile main.py\n",
    "import os\n",
    "\n",
    "# Check environment variable\n",
    "plash_production = os.getenv('PLASH_PRODUCTION')\n",
    "\n",
    "if plash_production: \n",
    "    from plash_cli.auth import make_plash_signin_url, goog_id_from_signin_reply, APP_SIGNIN_PATH\n",
    "else: \n",
    "    from plash_cli.auth_mock import make_plash_signin_url, goog_id_from_signin_reply, APP_SIGNIN_PATH\n",
    "\n",
    "from fasthtml.common import *\n",
    "\n",
    "app, rt = fast_app()\n",
    "\n",
    "@rt\n",
    "def index(session): \n",
    "    user_id = session.get('user_id')\n",
    "    if user_id:\n",
    "        return Div(\n",
    "            H1(\"Welcome to My Plash App!\"),\n",
    "            P(f\"You are logged in as user: {user_id}\"),\n",
    "            A(\"Protected Page\", href=\"/protected\"),\n",
    "            Br(), Br(),\n",
    "            A(\"Logout\", href=\"/logout\")\n",
    "        )\n",
    "    else:\n",
    "        return Div(\n",
    "            H1(\"Welcome to My Plash App!\"),\n",
    "            P(\"Please sign in to access the app.\"),\n",
    "            A(\"Sign in with Google\", href=make_plash_signin_url(session))\n",
    "        )\n",
    "\n",
    "@rt('/protected')\n",
    "def protected_page(session):\n",
    "    user_id = session.get('user_id')\n",
    "    if not user_id:\n",
    "        return RedirectResponse('/', status_code=303)\n",
    "    \n",
    "    return Div(\n",
    "        H1(\"Protected Page\"),\n",
    "        P(f\"This page is only accessible to authenticated users.\"),\n",
    "        P(f\"Your user ID: {user_id}\"),\n",
    "        A(\"Back to Home\", href=\"/\")\n",
    "    )\n",
    "\n",
    "@rt('/logout')\n",
    "def logout(session):\n",
    "    session.clear()\n",
    "    return RedirectResponse('/', status_code=303)\n",
    "\n",
    "@rt(APP_SIGNIN_PATH)\n",
    "def plash_signin_completed(session, signin_reply: str):\n",
    "    uid = goog_id_from_signin_reply(session, signin_reply)\n",
    "    if uid is None:\n",
    "        return Div(\n",
    "            H2(\"Login Failed\"),\n",
    "            P(\"There was an error signing you in. Please try again.\"),\n",
    "            A(\"Try Again\", href=\"/\")\n",
    "        )\n",
    "    else:\n",
    "        session['user_id'] = uid\n",
    "        return RedirectResponse('/', status_code=303)\n",
    "\n",
    "serve()"
   ]
  },
  {
   "cell_type": "markdown",
   "metadata": {},
   "source": [
    "## 3. Add Required Dependencies\n",
    "\n",
    "Create your `requirements.txt` file with the necessary packages:"
   ]
  },
  {
   "cell_type": "code",
   "execution_count": null,
   "metadata": {},
   "outputs": [],
   "source": [
    "%%writefile requirements.txt\n",
    "python-fasthtml\n",
    "fastcore\n",
    "httpx>=0.28.1\n",
    "git+https://github.com/AnswerDotAI/plash_cli.git@feat-add-oauth"
   ]
  },
  {
   "cell_type": "markdown",
   "metadata": {},
   "source": [
    "::: {.callout-note}\n",
    "We're using the `feat-add-oauth` branch of plash_cli which contains the latest auth functionality. Once this feature is merged, you can use the main branch.\n",
    ":::"
   ]
  },
  {
   "cell_type": "markdown",
   "metadata": {},
   "source": [
    "## 4. Understanding the Code\n",
    "\n",
    "Let's break down the key components of our auth app:\n",
    "\n",
    "### Environment Detection\n",
    "```python\n",
    "plash_production = os.getenv('PLASH_PRODUCTION')\n",
    "```\n",
    "\n",
    "Plash automatically sets the `PLASH_PRODUCTION` environment variable when your app runs in production. This allows your app to use real OAuth in production and mock auth for local testing.\n",
    "\n",
    "### Key Functions\n",
    "\n",
    "- **`make_plash_signin_url(session)`**: Generates a sign-in URL that starts the OAuth flow\n",
    "- **`goog_id_from_signin_reply(session, signin_reply)`**: Verifies the OAuth response and returns the user's Google ID\n",
    "- **`APP_SIGNIN_PATH`**: The path (`/signin_completed`) where Plash redirects after authentication\n",
    "\n",
    "### Session Management\n",
    "\n",
    "The app stores the user ID in the session after successful authentication:\n",
    "```python\n",
    "session['user_id'] = uid\n",
    "```\n",
    "\n",
    "### Protected Routes\n",
    "\n",
    "The `require_auth` decorator ensures only authenticated users can access certain pages:\n",
    "```python\n",
    "@rt('/protected')\n",
    "@require_auth\n",
    "def protected_page(session):\n",
    "    # Only accessible to logged-in users\n",
    "```"
   ]
  },
  {
   "cell_type": "markdown",
   "metadata": {},
   "source": [
    "## 5. Deploy Your Auth App\n",
    "\n",
    "Now let's deploy the app to see authentication in action:"
   ]
  },
  {
   "cell_type": "code",
   "execution_count": null,
   "metadata": {},
   "outputs": [],
   "source": [
    "%%writefile .plash\n",
    "#| hide\n",
    "export PLASH_APP_NAME='auth-tutorial-example'"
   ]
  },
  {
   "cell_type": "code",
   "execution_count": null,
   "metadata": {},
   "outputs": [],
   "source": [
    "%%bash\n",
    "plash_deploy"
   ]
  },
  {
   "cell_type": "markdown",
   "metadata": {},
   "source": [
    "## 6. Test Your Auth App\n",
    "\n",
    "Visit your deployed app and test the authentication flow:"
   ]
  },
  {
   "cell_type": "code",
   "execution_count": null,
   "metadata": {},
   "outputs": [],
   "source": [
    "%%bash\n",
    "plash_view"
   ]
  },
  {
   "cell_type": "markdown",
   "metadata": {},
   "source": [
    "You should see:\n",
    "\n",
    "1. A welcome page with a \"Sign in with Google\" link\n",
    "2. When clicked, you'll be redirected to Google's OAuth consent screen  \n",
    "3. After granting permission, you'll be redirected back to your app\n",
    "4. Now logged in, you can access the protected page and logout functionality"
   ]
  },
  {
   "cell_type": "markdown",
   "metadata": {},
   "source": [
    "## Troubleshooting\n",
    "\n",
    "### Common Issues\n",
    "\n",
    "**\"Invalid request\" error during OAuth**\n",
    "- Make sure your app is deployed and accessible at the URL Plash expects\n",
    "- Check that your requirements.txt includes the correct plash_cli version\n",
    "\n",
    "**Mock auth not working locally**\n",
    "- Ensure `PLASH_PRODUCTION` environment variable is not set when testing locally\n",
    "- Verify you're importing from `plash_cli.auth_mock` in development mode\n",
    "\n",
    "**Session not persisting**\n",
    "- Make sure you're using FastHTML's session management correctly\n",
    "- Check that cookies are enabled in your browser"
   ]
  },
  {
   "cell_type": "code",
   "execution_count": null,
   "metadata": {},
   "outputs": [],
   "source": [
    "#| hide\n",
    "temp_dir.cleanup()"
   ]
  }
 ],
 "metadata": {
  "kernelspec": {
   "display_name": "python3",
   "language": "python",
   "name": "python3"
  }
 },
 "nbformat": 4,
 "nbformat_minor": 4
}
