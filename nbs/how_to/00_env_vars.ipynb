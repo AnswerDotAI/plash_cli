{
 "cells": [
  {
   "cell_type": "markdown",
   "id": "cfcbd6c1",
   "metadata": {},
   "source": [
    "# Add Environment Variables\n",
    "\n",
    "> Use environment variables to configure your app without changing code. Perfect for secrets, API keys, and other configuration values."
   ]
  },
  {
   "cell_type": "markdown",
   "id": "76a97e77",
   "metadata": {},
   "source": [
    "## What are environment variables in plash\n",
    "\n",
    "Environment variables allow you to store configuration and sensitive information outside your codebase, making your application more secure and flexible across different environments. Plash provides a simple way to set and use environment variables in your deployed applications."
   ]
  },
  {
   "cell_type": "markdown",
   "id": "aa887e22",
   "metadata": {},
   "source": [
    "## Using environment variables in your own apps\n",
    "\n",
    "You can use this pattern in any of your Plash apps. Simply:\n",
    "\n",
    "1. Create a `plash.env` file in your project root\n",
    "2. Add your environment variables using `export KEY=VALUE` format\n",
    "3. Access them in your app (e.g. using `os.environ['KEY']`)\n",
    "\n",
    "::: {.callout-tip}\n",
    "Plash automatically sets environment variable `PLASH_PRODUCTION=1`, which you can use to detect whether your app is in production or development.\n",
    ":::"
   ]
  },
  {
   "cell_type": "markdown",
   "id": "e0bd66b8",
   "metadata": {},
   "source": [
    "## Step by step tutorial\n",
    "\n",
    "In this tutorial, you'll learn how to use environment variables in your Plash app.\n",
    "\n",
    "**Objectives:**\n",
    "\n",
    "- [ ] Create a plash.env file to define environment variables\n",
    "- [ ] Build a FastHTML app that displays environment variables\n",
    "- [ ] Deploy your app to see the variables in action\n",
    "\n",
    "**Prerequisites:**\n",
    "\n",
    "* A registered account at https://pla.sh\n",
    "* The Plash CLI installed (run `pip install plash-cli` if needed)\n",
    "* Logged in via the CLI (run `plash_login` if needed)"
   ]
  },
  {
   "cell_type": "markdown",
   "id": "99687780",
   "metadata": {},
   "source": [
    "## Setup -"
   ]
  },
  {
   "cell_type": "code",
   "execution_count": null,
   "id": "81de82ae",
   "metadata": {},
   "outputs": [],
   "source": [
    "#| hide\n",
    "from plash_cli._bash_magic import *\n",
    "import tempfile\n",
    "temp_dir = tempfile.TemporaryDirectory()\n",
    "td = temp_dir.name"
   ]
  },
  {
   "cell_type": "code",
   "execution_count": null,
   "id": "a5690b14",
   "metadata": {},
   "outputs": [
    {
     "name": "stdout",
     "output_type": "stream",
     "text": [
      "\n"
     ]
    }
   ],
   "source": [
    "%%bash\n",
    "#| hide\n",
    "cd $`td`"
   ]
  },
  {
   "cell_type": "markdown",
   "id": "3036ce8c",
   "metadata": {},
   "source": [
    "### Create your environment variable file\n",
    "\n",
    "First, create a directory for your project named `environment-variables-tutorial` and navigate into it."
   ]
  },
  {
   "cell_type": "code",
   "execution_count": null,
   "id": "fb647aa6",
   "metadata": {},
   "outputs": [
    {
     "name": "stdout",
     "output_type": "stream",
     "text": [
      "\n"
     ]
    }
   ],
   "source": [
    "%%bash\n",
    "mkdir -p environment-variables-tutorial\n",
    "cd environment-variables-tutorial"
   ]
  },
  {
   "cell_type": "code",
   "execution_count": null,
   "id": "e8f8d02d",
   "metadata": {},
   "outputs": [],
   "source": [
    "%%writefile .plash\n",
    "#| hide\n",
    "export PLASH_APP_ID='example-app'"
   ]
  },
  {
   "cell_type": "markdown",
   "id": "24c14908",
   "metadata": {},
   "source": [
    "Then, create a file named `plash.env` in your project directory with the following content:\n"
   ]
  },
  {
   "cell_type": "code",
   "execution_count": null,
   "id": "ffa1b0f1",
   "metadata": {},
   "outputs": [],
   "source": [
    "%%writefile plash.env\n",
    "export APP_NAME=\"My Environment Variables Demo\""
   ]
  },
  {
   "cell_type": "markdown",
   "id": "a9e30b0f",
   "metadata": {},
   "source": [
    "\n",
    "✅ Complete: Create a plash.env file to define environment variables"
   ]
  },
  {
   "cell_type": "markdown",
   "id": "0e54c430",
   "metadata": {},
   "source": [
    "### Create your FastHTML app\n",
    "\n",
    "Now, create a `main.py` file for your FastHTML application:"
   ]
  },
  {
   "cell_type": "code",
   "execution_count": null,
   "id": "858e94d3",
   "metadata": {},
   "outputs": [],
   "source": [
    "%%writefile main.py\n",
    "from fasthtml.common import *\n",
    "import os\n",
    "\n",
    "app, rt = fast_app()\n",
    "\n",
    "@rt\n",
    "def index():\n",
    "    # Access environment variables using os.environ\n",
    "    app_name = os.environ.get('APP_NAME', 'Default App Name')    \n",
    "    environment = \"Production\" if os.environ.get('PLASH_PRODUCTION', None) else \"Development\"\n",
    "\n",
    "    return Div(\n",
    "        H1(app_name),\n",
    "        P(f\"Running in: {environment}\"),\n",
    "        style=\"font-family: system-ui; max-width: 600px; margin: 0 auto; padding: 2rem;\"\n",
    "    )\n",
    "\n",
    "serve()"
   ]
  },
  {
   "cell_type": "markdown",
   "id": "03c851d0",
   "metadata": {},
   "source": [
    "Also create a `requirements.txt` file:"
   ]
  },
  {
   "cell_type": "code",
   "execution_count": null,
   "id": "29b04ce1",
   "metadata": {},
   "outputs": [],
   "source": [
    "%%writefile requirements.txt\n",
    "python-fasthtml"
   ]
  },
  {
   "cell_type": "markdown",
   "id": "0d7699a4",
   "metadata": {},
   "source": [
    "✅ Complete: Build a FastHTML app that displays environment variables"
   ]
  },
  {
   "cell_type": "markdown",
   "id": "c08e6df2",
   "metadata": {},
   "source": [
    "### Deploy your app\n",
    "\n",
    "Now deploy your app with:"
   ]
  },
  {
   "cell_type": "code",
   "execution_count": null,
   "id": "c4a14334",
   "metadata": {},
   "outputs": [
    {
     "name": "stdout",
     "output_type": "stream",
     "text": [
      "Initializing deployment...\r\n",
      "✅ Upload complete! Your app is currently being built.\r\n",
      "It will be live at https://example-app.pla.sh\r\n",
      "\n"
     ]
    }
   ],
   "source": [
    "%%bash\n",
    "plash_deploy"
   ]
  },
  {
   "cell_type": "markdown",
   "id": "0ad477a8",
   "metadata": {},
   "source": [
    "Follow the displayed link. You will see:\n",
    "\n",
    "- The APP_NAME environment variable as the heading\n",
    "- A message describing the app is running in production\n",
    "\n",
    "\n",
    "✅ Complete: Deploy your app to see the variables in action\n",
    "\n",
    "**🎉 Complete: Environment Variables Tutorial**"
   ]
  }
 ],
 "metadata": {
  "kernelspec": {
   "display_name": "python3",
   "language": "python",
   "name": "python3"
  }
 },
 "nbformat": 4,
 "nbformat_minor": 5
}
