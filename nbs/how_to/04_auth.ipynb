{
 "cells": [
  {
   "cell_type": "raw",
   "metadata": {},
   "source": [
    "---\n",
    "execute:\n",
    "  output: false\n",
    "---"
   ]
  },
  {
   "cell_type": "markdown",
   "metadata": {},
   "source": [
    "# Auth\n",
    "\n",
    "> The easiest way to add Google OAuth authentication to your Plash apps"
   ]
  },
  {
   "cell_type": "markdown",
   "metadata": {},
   "source": [
    "## Why Use Plash Auth?\n",
    "\n",
    "Setting up Google OAuth authentication traditionally requires:\n",
    "\n",
    "- Google Cloud Console project setup and OAuth consent screen configuration\n",
    "- Secure credential management and rotation in production\n",
    "- Managing redirect URLs across development, staging, and production environments\n",
    "- Complex local testing workarounds (OAuth typically breaks without HTTPS and registered domains)\n",
    "\n",
    "**Plash Auth eliminates this complexity** by providing a simple wrapper around the OAuth flow. We handle all the Google Cloud setup, credential management, and redirect configuration for you."
   ]
  },
  {
   "cell_type": "markdown",
   "metadata": {},
   "source": [
    "## Tutorial"
   ]
  },
  {
   "cell_type": "markdown",
   "metadata": {},
   "source": [
    "### 0. Setup"
   ]
  },
  {
   "cell_type": "markdown",
   "metadata": {},
   "source": [
    "This tutorial will show you how to add Google OAuth authentication to your FastHTML apps deployed on Plash. With Plash's built-in auth system, you can easily implement secure sign-in functionality without managing OAuth secrets or redirect URLs yourself.\n",
    "\n",
    "**Prerequisites:**\n",
    "\n",
    "* A registered account at [https://pla.sh](https://pla.sh)\n",
    "* Completed the [basic tutorial](../index.qmd) for deploying your first app"
   ]
  },
  {
   "cell_type": "markdown",
   "metadata": {},
   "source": [
    "In this tutorial we'll focus on FastHTML. But any Plash app can technically make use of Plash Auth."
   ]
  },
  {
   "cell_type": "markdown",
   "metadata": {},
   "source": [
    "### 1. Create Your Auth App\n",
    "\n",
    "First create a new directory for our auth example.\n",
    "\n",
    "```bash\n",
    "cd auth-example-app\n",
    "```"
   ]
  },
  {
   "cell_type": "code",
   "execution_count": null,
   "metadata": {},
   "outputs": [
    {
     "name": "stdout",
     "output_type": "stream",
     "text": [
      "/Users/rensdimmendaal/git/repos/plash_cli/examples/auth\n"
     ]
    }
   ],
   "source": [
    "#| hide\n",
    "%cd ../../examples/auth/"
   ]
  },
  {
   "cell_type": "markdown",
   "metadata": {},
   "source": [
    "### 2. Create your app\n",
    "\n",
    "Create a `main.py` file for your app and paste in the minimum working example from below:"
   ]
  },
  {
   "cell_type": "code",
   "execution_count": null,
   "metadata": {},
   "outputs": [
    {
     "name": "stdout",
     "output_type": "stream",
     "text": [
      "Overwriting main.py\n"
     ]
    }
   ],
   "source": [
    "%%writefile main.py\n",
    "from fasthtml.common import *\n",
    "from plash_cli.auth import *\n",
    "\n",
    "app, rt = fast_app()\n",
    "\n",
    "@rt\n",
    "def index(session):\n",
    "    if uid:=session.get('uid'):   # <1>\n",
    "            return (H1(f\"Welcome! You are logged in as user: {uid}\"), \n",
    "                    A(\"Logout\", href=\"/logout\"))\n",
    "    else: \n",
    "        return (\n",
    "            H1(\"Welcome! Please sign.\"), \n",
    "            A(\"Sign in with Google\", href=mk_signin_url(session)))  # <2>\n",
    "\n",
    "@rt(signin_completed_rt)  # <3>\n",
    "def signin_completed(session, signin_reply: str):\n",
    "    try: \n",
    "        uid = goog_id_from_signin_reply(session, signin_reply)  # <4>\n",
    "        session['uid'] = uid\n",
    "        return RedirectResponse('/', status_code=303)\n",
    "    except PlashAuthError as e:  # <5> \n",
    "        return Div(\n",
    "            H2(\"Login Failed\"),\n",
    "            P(f\"There was an error signing you in: {e}\"),\n",
    "            A(\"Try Again\", href=\"/\")\n",
    "        )\n",
    "    \n",
    "@rt('/logout')\n",
    "def logout(session):\n",
    "    session.pop('uid')  # <6>\n",
    "    return RedirectResponse('/', status_code=303)\n",
    "\n",
    "serve()\n"
   ]
  },
  {
   "cell_type": "markdown",
   "metadata": {},
   "source": [
    "1. Verify if user is logged in\n",
    "2. Generate Auth login URL\n",
    "3. Receive Auth callback\n",
    "4. Extract user ID from succesful Auth response\n",
    "5. Handle Auth authentication errors\n",
    "6. Clear user session to log out"
   ]
  },
  {
   "cell_type": "markdown",
   "metadata": {},
   "source": [
    "### 3. Add requirements\n",
    "\n",
    "Create your `requirements.txt` file with the necessary packages:"
   ]
  },
  {
   "cell_type": "code",
   "execution_count": null,
   "metadata": {},
   "outputs": [
    {
     "name": "stdout",
     "output_type": "stream",
     "text": [
      "Overwriting requirements.txt\n"
     ]
    }
   ],
   "source": [
    "%%writefile requirements.txt\n",
    "python-fasthtml\n",
    "git+https://github.com/AnswerDotAI/plash_cli.git@feat-add-oauth"
   ]
  },
  {
   "cell_type": "markdown",
   "metadata": {},
   "source": [
    "### 4. Deploy Your Auth App\n",
    "\n",
    "With those two files created. Now we are ready to deploy.\n",
    "\n",
    "```bash\n",
    "plash_deploy\n",
    "```"
   ]
  },
  {
   "cell_type": "markdown",
   "metadata": {},
   "source": [
    "### 5. Try it out!\n",
    "\n",
    "Visit your deployed app:\n",
    "\n",
    "```bash\n",
    "plash_view\n",
    "```\n",
    "\n",
    "Test the authentication flow:\n",
    "\n",
    "1. **Sign in** → redirects to Google OAuth\n",
    "2. **Grant permission** → returns to your app with user ID\n",
    "3. **Session management** → handled by FastHTML sessions\n",
    "4. **Logout** → clears session"
   ]
  },
  {
   "cell_type": "markdown",
   "metadata": {},
   "source": [
    "## Limitations\n",
    "\n",
    "### Local Development\n",
    "\n",
    "Plash Auth only works when deployed on Plash. When you run locally with `python main.py`, you'll get a test user with ID `424242424242424242424` for development.\n",
    "\n",
    "If you need realistic authentication testing, deploy a development version (e.g. `dev-my-app.pla.sh`) since Plash deployments are fast and low-cost.\n",
    "\n",
    "### User Data Access\n",
    "\n",
    "Plash Auth only provides the user's unique Google ID. If you need additional user information (name, email) or Google service access (Drive, Gmail), you'll need to implement full OAuth yourself using [FastHTML's OAuth documentation](https://www.fastht.ml/docs/explains/oauth.html).\n",
    "\n",
    "**For most applications that just need secure user authentication, Plash Auth is the simplest solution.**"
   ]
  }
 ],
 "metadata": {
  "kernelspec": {
   "display_name": "python3",
   "language": "python",
   "name": "python3"
  }
 },
 "nbformat": 4,
 "nbformat_minor": 4
}
