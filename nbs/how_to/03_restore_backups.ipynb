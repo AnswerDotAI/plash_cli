{
 "cells": [
  {
   "cell_type": "markdown",
   "metadata": {},
   "source": [
    "# Restore backups\n",
    "\n",
    "> Restore your app's data from automatic hourly backups"
   ]
  },
  {
   "cell_type": "markdown",
   "metadata": {},
   "source": [
    "Plash automatically backs up your app's persistent storage every hour. \n",
    "\n",
    "Need to restore? We've got you covered.\n",
    "\n",
    "## How to restore\n",
    "\n",
    "Contact us with these details via Discord or Email (support@answer.ai):\n",
    "\n",
    "- Your email address\n",
    "- Your app name \n",
    "- Restore datetime (UTC timezone)\n",
    "\n",
    "And we'll help you restore your backup.\n",
    "\n",
    "Automated backup restore will be available in the CLI in the future."
   ]
  }
 ],
 "metadata": {},
 "nbformat": 4,
 "nbformat_minor": 2
}
