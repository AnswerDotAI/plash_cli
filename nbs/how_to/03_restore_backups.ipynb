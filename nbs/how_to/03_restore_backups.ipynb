{
 "cells": [
  {
   "cell_type": "markdown",
   "metadata": {},
   "source": [
    "# Restore backups\n",
    "\n",
    "> How to restore your app's data"
   ]
  },
  {
   "cell_type": "markdown",
   "metadata": {},
   "source": [
    "Plash automatically backs up your app's persistent storage. We keep one backup for each of the past five hours, one from two days ago, one from two weeks ago, and one from two months ago.\n",
    "\n",
    "## How to restore\n",
    "\n",
    "Contact us with the details below via Discord or Email (support@answer.ai) and we'll send you the closest backup we have:\n",
    "\n",
    "- Your email address\n",
    "- Your app name \n",
    "- Restore datetime (UTC timezone)"
   ]
  }
 ],
 "metadata": {},
 "nbformat": 4,
 "nbformat_minor": 2
}
