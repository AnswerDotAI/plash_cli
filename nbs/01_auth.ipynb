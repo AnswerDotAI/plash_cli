{
 "cells": [
  {
   "cell_type": "markdown",
   "id": "e41f2262",
   "metadata": {},
   "source": [
    "# Auth\n",
    "\n",
    "> Client side logic to add Plash Auth to your app"
   ]
  },
  {
   "cell_type": "markdown",
   "id": "188fb79d",
   "metadata": {},
   "source": [
    "This page describes how Plash Auth is implemented client side. \n",
    "\n",
    "Please see the [how to](how_to/auth.html) for instructions on how to use it."
   ]
  },
  {
   "cell_type": "markdown",
   "id": "59ce8def",
   "metadata": {},
   "source": [
    "## Setup -"
   ]
  },
  {
   "cell_type": "code",
   "execution_count": null,
   "id": "d1d44038",
   "metadata": {},
   "outputs": [],
   "source": [
    "#| default_exp auth"
   ]
  },
  {
   "cell_type": "code",
   "execution_count": null,
   "id": "c6aa552a",
   "metadata": {},
   "outputs": [],
   "source": [
    "#| export\n",
    "import httpx,os,jwt\n",
    "from pathlib import Path\n",
    "from warnings import warn\n",
    "\n",
    "from plash_cli import __version__"
   ]
  },
  {
   "cell_type": "code",
   "execution_count": null,
   "id": "d3504f51",
   "metadata": {},
   "outputs": [],
   "source": [
    "#| export\n",
    "_in_prod = os.getenv('PLASH_PRODUCTION', '') == '1'"
   ]
  },
  {
   "cell_type": "code",
   "execution_count": null,
   "id": "e6590075",
   "metadata": {},
   "outputs": [],
   "source": [
    "#| export\n",
    "def _signin_url(email_re: str=None, hd_re: str=None):\n",
    "    res = httpx.post(os.environ['PLASH_AUTH_URL'], json=dict(email_re=email_re, hd_re=hd_re), \n",
    "                     auth=(os.environ['PLASH_APP_ID'], os.environ['PLASH_APP_SECRET']), \n",
    "                     headers={'X-PLASH-AUTH-VERSION': __version__}).raise_for_status().json()\n",
    "    if \"warning\" in res: warn(res.pop('warning'))\n",
    "    return res"
   ]
  },
  {
   "cell_type": "markdown",
   "id": "04e96cb6",
   "metadata": {},
   "source": [
    "### Redirect route"
   ]
  },
  {
   "cell_type": "code",
   "execution_count": null,
   "id": "4b15411c",
   "metadata": {},
   "outputs": [],
   "source": [
    "#| exports\n",
    "signin_completed_rt = \"/signin_completed\""
   ]
  },
  {
   "cell_type": "markdown",
   "id": "78f8fc38",
   "metadata": {},
   "source": [
    "The signin completion route is where Plash Auth redirects users after authentication. Your app needs to add this route to complete the login."
   ]
  },
  {
   "cell_type": "code",
   "execution_count": null,
   "id": "74a0a24d",
   "metadata": {},
   "outputs": [],
   "source": [
    "#| export\n",
    "def mk_signin_url(session: dict,       # Session dictionary\n",
    "                        email_re: str=None,  # Regex filter for allowed email addresses\n",
    "                        hd_re: str=None):    # Regex filter for allowed Google hosted domains\n",
    "    \"Generate a Google Sign-In URL for Plash authentication.\"\n",
    "    if not _in_prod: return f\"{signin_completed_rt}?signin_reply=mock-sign-in-reply\"\n",
    "    res = _signin_url(email_re, hd_re)\n",
    "    session['req_id'] = res['req_id']\n",
    "    return res['plash_signin_url']"
   ]
  },
  {
   "cell_type": "markdown",
   "id": "ea4836e1",
   "metadata": {},
   "source": [
    "`mk_signin_url` is the function your app calls to create a Google signin URL for the user. \n",
    "\n",
    "In development mode, it returns a mock URL to make testing easier. \n",
    "\n",
    "In production, it calls the Plash Auth service and stores the request ID in the session for later verification."
   ]
  },
  {
   "cell_type": "code",
   "execution_count": null,
   "id": "8e66bb6e",
   "metadata": {},
   "outputs": [],
   "source": [
    "#| export\n",
    "def _parse_jwt(reply: str) -> dict:\n",
    "    \"Parse JWT reply and return decoded claims or error info\"\n",
    "    try: decoded = jwt.decode(reply, key=open(Path(__file__).parent / \"assets\" / \"es256_public_key.pem\",\"rb\").read(), algorithms=[\"ES256\"], \n",
    "                              options=dict(verify_aud=False, verify_iss=False))\n",
    "    except Exception as e: return dict(req_id=None, sub=None, err=f'JWT validation failed: {e}')\n",
    "    return dict(req_id=decoded.get('req_id'), sub=decoded.get('sub'), err=decoded.get('err'))"
   ]
  },
  {
   "cell_type": "markdown",
   "id": "2018d4e9",
   "metadata": {},
   "source": [
    "After Google authentication, Plash sends back a JSON Web Token (JWT) containing the user's information. This function decodes and validates that token using the ES256 public key. If anything goes wrong with the JWT, it returns error details instead of crashing.\n",
    "\n",
    "::: {.callout-note}\n",
    "A JWT does not mean the message is encrypted. It ensures data integrity and authenticity, it protects against tampering and forgery. We use JWT tokens so your app can trust that the sign-in information and user details it receives after authentication really come from Plash (and by extension, Google), and have not been modified by an attacker.\n",
    ":::"
   ]
  },
  {
   "cell_type": "code",
   "execution_count": null,
   "id": "0e61fbdd",
   "metadata": {},
   "outputs": [],
   "source": [
    "#| export\n",
    "class PlashAuthError(Exception):\n",
    "    \"\"\"Raised when Plash authentication fails\"\"\"\n",
    "    pass"
   ]
  },
  {
   "cell_type": "markdown",
   "id": "bb5e03fd",
   "metadata": {},
   "source": [
    "`PlashAuthError` is a custom exception for when authentication fails. This makes it easier for your app to handle auth errors specifically.\n",
    "\n",
    "Please see the [auth example](https://github.com/AnswerDotAI/plash_cli/blob/main/examples/auth/main.py) for an example on how you can catch this exception in your application."
   ]
  },
  {
   "cell_type": "code",
   "execution_count": null,
   "id": "a311ce9a",
   "metadata": {},
   "outputs": [],
   "source": [
    "#| export\n",
    "def goog_id_from_signin_reply(session: dict, # Session dictionary containing 'req_id'\n",
    "                              reply: str):   # The JWT reply string from Plash after Google authentication\n",
    "    \"Validate Google sign-in reply and returns Google user ID if valid.\"\n",
    "    if not _in_prod: return '424242424242424242424'\n",
    "    parsed = _parse_jwt(reply)\n",
    "    if session.get('req_id') != parsed['req_id']: raise PlashAuthError(\"Request originated from a different browser than the one receiving the reply\")\n",
    "    if parsed['err']: raise PlashAuthError(f\"Authentication failed: {parsed['err']}\")\n",
    "    return parsed['sub']"
   ]
  },
  {
   "cell_type": "markdown",
   "id": "3b9c0959",
   "metadata": {},
   "source": [
    "`goog_id_from_signin_reply` is the function your app calls in the signin completion route. It verifies the JWT reply matches the original request (preventing CSRF attacks), checks for any authentication errors, and returns the user's Google ID if everything is valid.\n",
    "\n",
    "When testing locally this will always return the mock Google ID `'424242424242424242424'`."
   ]
  },
  {
   "cell_type": "markdown",
   "id": "72eaabaa",
   "metadata": {},
   "source": [
    "## Export -"
   ]
  },
  {
   "cell_type": "code",
   "execution_count": null,
   "id": "640ce52d",
   "metadata": {},
   "outputs": [],
   "source": [
    "#|hide\n",
    "from nbdev import nbdev_export\n",
    "nbdev_export()"
   ]
  }
 ],
 "metadata": {
  "kernelspec": {
   "display_name": "python3",
   "language": "python",
   "name": "python3"
  }
 },
 "nbformat": 4,
 "nbformat_minor": 5
}
